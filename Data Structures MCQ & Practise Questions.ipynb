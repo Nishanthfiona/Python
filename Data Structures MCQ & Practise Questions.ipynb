{
 "cells": [
  {
   "cell_type": "code",
   "execution_count": 1,
   "id": "7b7f12b6",
   "metadata": {},
   "outputs": [
    {
     "ename": "TypeError",
     "evalue": "'str' object cannot be interpreted as an integer",
     "output_type": "error",
     "traceback": [
      "\u001b[1;31m---------------------------------------------------------------------------\u001b[0m",
      "\u001b[1;31mTypeError\u001b[0m                                 Traceback (most recent call last)",
      "Cell \u001b[1;32mIn[1], line 2\u001b[0m\n\u001b[0;32m      1\u001b[0m s \u001b[38;5;241m=\u001b[39m \u001b[38;5;124m'\u001b[39m\u001b[38;5;124ma$b@c@d\u001b[39m\u001b[38;5;124m'\u001b[39m\n\u001b[1;32m----> 2\u001b[0m \u001b[38;5;28mprint\u001b[39m(s\u001b[38;5;241m.\u001b[39msplit(\u001b[38;5;124m'\u001b[39m\u001b[38;5;124m@\u001b[39m\u001b[38;5;124m'\u001b[39m,\u001b[38;5;124m'\u001b[39m\u001b[38;5;124m$\u001b[39m\u001b[38;5;124m'\u001b[39m))\n",
      "\u001b[1;31mTypeError\u001b[0m: 'str' object cannot be interpreted as an integer"
     ]
    }
   ],
   "source": [
    "s = 'a$b@c@d'\n",
    "print(s.split('@','$'))"
   ]
  },
  {
   "cell_type": "code",
   "execution_count": 2,
   "id": "8a50db9b",
   "metadata": {},
   "outputs": [],
   "source": [
    "fruits = ['apple', 'mango', ['grapes', 'papaya'], ('banana', 'pomegranate')]"
   ]
  },
  {
   "cell_type": "code",
   "execution_count": 3,
   "id": "1f88e809",
   "metadata": {},
   "outputs": [
    {
     "data": {
      "text/plain": [
       "'banana'"
      ]
     },
     "execution_count": 3,
     "metadata": {},
     "output_type": "execute_result"
    }
   ],
   "source": [
    "fruits[3][0]"
   ]
  },
  {
   "cell_type": "code",
   "execution_count": 4,
   "id": "d6a73c5b",
   "metadata": {},
   "outputs": [
    {
     "name": "stdout",
     "output_type": "stream",
     "text": [
      "None\n"
     ]
    }
   ],
   "source": [
    "list_1 = ['red' , 'orange', 'blue', 'green', 'black', 'white']\n",
    "print(list_1.sort())"
   ]
  },
  {
   "cell_type": "code",
   "execution_count": 5,
   "id": "14b2e838",
   "metadata": {},
   "outputs": [
    {
     "name": "stdout",
     "output_type": "stream",
     "text": [
      "[2, 4, 7, 9]\n",
      "[9, 4, 2, 7]\n",
      "None\n",
      "[1, 3, 6, 8]\n"
     ]
    }
   ],
   "source": [
    "num_1=[9,4,2,7]\n",
    "num_2=[8,3,6,1]\n",
    "print(sorted(num_1))\n",
    "print(num_1)\n",
    "print(num_2.sort())\n",
    "print(num_2)"
   ]
  },
  {
   "cell_type": "code",
   "execution_count": 6,
   "id": "fc04a255",
   "metadata": {},
   "outputs": [
    {
     "name": "stdout",
     "output_type": "stream",
     "text": [
      "('paris', 'india', 'china', 'london', 'sri lanka')\n"
     ]
    }
   ],
   "source": [
    "l = ['paris','india','china','london']\n",
    "print(tuple(l+['sri lanka']))"
   ]
  },
  {
   "cell_type": "code",
   "execution_count": 7,
   "id": "09078adc",
   "metadata": {},
   "outputs": [
    {
     "name": "stdout",
     "output_type": "stream",
     "text": [
      "<class 'int'>\n"
     ]
    }
   ],
   "source": [
    "var=(5)\n",
    "print(type(var))"
   ]
  },
  {
   "cell_type": "code",
   "execution_count": 8,
   "id": "483c3c5e",
   "metadata": {},
   "outputs": [
    {
     "name": "stdout",
     "output_type": "stream",
     "text": [
      "([1, 3, 7], 'abcd', (2, 4), 6)\n"
     ]
    }
   ],
   "source": [
    "tup=([1,3,5],\"abcd\",(2,4),6)\n",
    "tup[0][2]=7\n",
    "print(tup)"
   ]
  },
  {
   "cell_type": "code",
   "execution_count": 9,
   "id": "8788683e",
   "metadata": {},
   "outputs": [
    {
     "name": "stdout",
     "output_type": "stream",
     "text": [
      "{1, 2, 4}\n"
     ]
    }
   ],
   "source": [
    "a= {1,2,4,5}\n",
    "b= {5,6,7,8}\n",
    "print(a-b)"
   ]
  },
  {
   "cell_type": "code",
   "execution_count": 10,
   "id": "34998f0b",
   "metadata": {},
   "outputs": [
    {
     "ename": "TypeError",
     "evalue": "unsupported operand type(s) for *: 'set' and 'int'",
     "output_type": "error",
     "traceback": [
      "\u001b[1;31m---------------------------------------------------------------------------\u001b[0m",
      "\u001b[1;31mTypeError\u001b[0m                                 Traceback (most recent call last)",
      "Cell \u001b[1;32mIn[10], line 2\u001b[0m\n\u001b[0;32m      1\u001b[0m s\u001b[38;5;241m=\u001b[39m {\u001b[38;5;241m3\u001b[39m,\u001b[38;5;241m4\u001b[39m,\u001b[38;5;241m5\u001b[39m}\n\u001b[1;32m----> 2\u001b[0m s\u001b[38;5;241m*\u001b[39m\u001b[38;5;241m2\u001b[39m\n",
      "\u001b[1;31mTypeError\u001b[0m: unsupported operand type(s) for *: 'set' and 'int'"
     ]
    }
   ],
   "source": [
    "s= {3,4,5}\n",
    "s*2"
   ]
  },
  {
   "cell_type": "code",
   "execution_count": 11,
   "id": "b5ef0500",
   "metadata": {},
   "outputs": [
    {
     "name": "stdout",
     "output_type": "stream",
     "text": [
      "5\n"
     ]
    }
   ],
   "source": [
    "numbers= {1,0,6,1,4,0,7}\n",
    "print(len(numbers))"
   ]
  },
  {
   "cell_type": "code",
   "execution_count": 12,
   "id": "de616dea",
   "metadata": {},
   "outputs": [
    {
     "ename": "KeyError",
     "evalue": "1",
     "output_type": "error",
     "traceback": [
      "\u001b[1;31m---------------------------------------------------------------------------\u001b[0m",
      "\u001b[1;31mKeyError\u001b[0m                                  Traceback (most recent call last)",
      "Cell \u001b[1;32mIn[12], line 2\u001b[0m\n\u001b[0;32m      1\u001b[0m \u001b[38;5;28mdict\u001b[39m\u001b[38;5;241m=\u001b[39m {\u001b[38;5;124m'\u001b[39m\u001b[38;5;124mab\u001b[39m\u001b[38;5;124m'\u001b[39m:\u001b[38;5;241m12\u001b[39m,\u001b[38;5;124m'\u001b[39m\u001b[38;5;124mcd\u001b[39m\u001b[38;5;124m'\u001b[39m:\u001b[38;5;241m34\u001b[39m,\u001b[38;5;124m'\u001b[39m\u001b[38;5;124mef\u001b[39m\u001b[38;5;124m'\u001b[39m:\u001b[38;5;241m56\u001b[39m}\n\u001b[1;32m----> 2\u001b[0m \u001b[38;5;28mprint\u001b[39m(\u001b[38;5;28mdict\u001b[39m[\u001b[38;5;241m1\u001b[39m])\n",
      "\u001b[1;31mKeyError\u001b[0m: 1"
     ]
    }
   ],
   "source": [
    "dict= {'ab':12,'cd':34,'ef':56}\n",
    "print(dict[1])"
   ]
  },
  {
   "cell_type": "code",
   "execution_count": 13,
   "id": "698c0fe7",
   "metadata": {},
   "outputs": [
    {
     "name": "stdout",
     "output_type": "stream",
     "text": [
      "dict_keys(['John', 'Alex'])\n"
     ]
    }
   ],
   "source": [
    "marks= {'John':45,'Alex':60}\n",
    "print(marks.keys())"
   ]
  },
  {
   "cell_type": "code",
   "execution_count": 14,
   "id": "e9e893c6",
   "metadata": {},
   "outputs": [
    {
     "data": {
      "text/plain": [
       "True"
      ]
     },
     "execution_count": 14,
     "metadata": {},
     "output_type": "execute_result"
    }
   ],
   "source": [
    "d = {\"Python\":40, \"R\":45}\n",
    "\"Python\" in d"
   ]
  },
  {
   "cell_type": "code",
   "execution_count": 15,
   "id": "3a24b7f8",
   "metadata": {},
   "outputs": [
    {
     "name": "stdout",
     "output_type": "stream",
     "text": [
      "1\n",
      "2\n",
      "3\n"
     ]
    }
   ],
   "source": [
    "input_dict= {1:\"one\",2:\"two\",3:\"three\"}\n",
    "for i in input_dict:\n",
    "  print(i)"
   ]
  },
  {
   "cell_type": "code",
   "execution_count": 16,
   "id": "880b7e10",
   "metadata": {},
   "outputs": [
    {
     "name": "stdout",
     "output_type": "stream",
     "text": [
      "8\n"
     ]
    }
   ],
   "source": [
    "input_str=\"I love programming in python\"\n",
    "count=0\n",
    "l=['a','e','i','o','u']\n",
    "for i in input_str.lower():\n",
    "  if i in l:\n",
    "  \tcount=count+1\n",
    "print(count)"
   ]
  },
  {
   "cell_type": "code",
   "execution_count": 26,
   "id": "bc73a6d6",
   "metadata": {},
   "outputs": [],
   "source": [
    "x = [11, 13, 101, 14, 33, 141]"
   ]
  },
  {
   "cell_type": "code",
   "execution_count": 27,
   "id": "e12a8d11",
   "metadata": {},
   "outputs": [
    {
     "data": {
      "text/plain": [
       "313"
      ]
     },
     "execution_count": 27,
     "metadata": {},
     "output_type": "execute_result"
    }
   ],
   "source": [
    "sum(x)"
   ]
  },
  {
   "cell_type": "code",
   "execution_count": 28,
   "id": "b26b4a8e",
   "metadata": {},
   "outputs": [
    {
     "name": "stdout",
     "output_type": "stream",
     "text": [
      "313\n"
     ]
    }
   ],
   "source": [
    "\n",
    "if len(x) <= 11:\n",
    "    print(sum(x))\n",
    "else:\n",
    "    print(-1)\n"
   ]
  },
  {
   "cell_type": "code",
   "execution_count": 36,
   "id": "4f9eb322",
   "metadata": {},
   "outputs": [
    {
     "name": "stdout",
     "output_type": "stream",
     "text": [
      "[11, 13, 101, 14, 33, 141]\n"
     ]
    }
   ],
   "source": [
    "x = list(input())"
   ]
  },
  {
   "cell_type": "code",
   "execution_count": 39,
   "id": "e2d9d80b",
   "metadata": {},
   "outputs": [
    {
     "ename": "TypeError",
     "evalue": "'int' object is not callable",
     "output_type": "error",
     "traceback": [
      "\u001b[1;31m---------------------------------------------------------------------------\u001b[0m",
      "\u001b[1;31mTypeError\u001b[0m                                 Traceback (most recent call last)",
      "Cell \u001b[1;32mIn[39], line 1\u001b[0m\n\u001b[1;32m----> 1\u001b[0m count(x)\n",
      "\u001b[1;31mTypeError\u001b[0m: 'int' object is not callable"
     ]
    }
   ],
   "source": []
  },
  {
   "cell_type": "code",
   "execution_count": 40,
   "id": "f234f5f2",
   "metadata": {},
   "outputs": [
    {
     "name": "stdout",
     "output_type": "stream",
     "text": [
      "313\n"
     ]
    }
   ],
   "source": [
    "x = [11, 13, 101, 14, 33, 141]\n",
    "\n",
    "if len(x) > 11:\n",
    "    print(-1)\n",
    "else:\n",
    "    print(sum(x))"
   ]
  },
  {
   "cell_type": "code",
   "execution_count": 35,
   "id": "9de6f4bd",
   "metadata": {},
   "outputs": [
    {
     "data": {
      "text/plain": [
       "26"
      ]
     },
     "execution_count": 35,
     "metadata": {},
     "output_type": "execute_result"
    }
   ],
   "source": [
    "len(x)"
   ]
  },
  {
   "cell_type": "code",
   "execution_count": 45,
   "id": "0870855f",
   "metadata": {},
   "outputs": [
    {
     "name": "stdout",
     "output_type": "stream",
     "text": [
      "[11, 13, 101, 14, 33, 141]\n",
      "313\n"
     ]
    }
   ],
   "source": [
    "import ast\n",
    "\n",
    "x = ast.literal_eval(input())\n",
    "\n",
    "if len(x) > 11:\n",
    "    print(-1)\n",
    "else:\n",
    "    print(sum(x))"
   ]
  },
  {
   "cell_type": "code",
   "execution_count": 62,
   "id": "99884604",
   "metadata": {},
   "outputs": [
    {
     "name": "stdout",
     "output_type": "stream",
     "text": [
      "[Datascience, Data Analyst, Programmer, Manager]\n",
      "8\n",
      "3\n"
     ]
    }
   ],
   "source": [
    "\n",
    "input_list = input().split(\",\")\n",
    "input_int = int(input())\n",
    "i = 0\n",
    "for c in input_list:\n",
    "    if len(c.strip()) > input_int:\n",
    "         i+=1\n",
    "print(i) #exact solution in next cell"
   ]
  },
  {
   "cell_type": "code",
   "execution_count": null,
   "id": "89c466c3",
   "metadata": {},
   "outputs": [],
   "source": [
    "import ast\n",
    "import sys\n",
    "\n",
    "input_str = sys.stdin.readline().strip(\",\")\n",
    "input_list = ast.literal_eval(input_str)\n",
    "input_int = int(input())\n",
    "\n",
    "# Start writing your code here\n",
    "count = 0\n",
    "for c in input_list:\n",
    "    if len(c.strip()) >= input_int: \n",
    "        count += 1\n",
    "print(count)\n",
    "\n",
    "\n"
   ]
  },
  {
   "cell_type": "code",
   "execution_count": null,
   "id": "f736350b",
   "metadata": {},
   "outputs": [],
   "source": [
    "import ast\n",
    "input_list = ast.literal_eval(input())\n",
    "K = int(input())\n",
    "new_list =[]\n",
    "for i in range(0,len(input_list)):\n",
    "    if input_list[i].isdigit():\n",
    "        new_list.append(str(int(input_list[i]) + K))\n",
    "    else:\n",
    "        new_list.append(input_list[i])\n",
    "print(new_list) # this can be written like next cell or better code\n",
    "\n"
   ]
  },
  {
   "cell_type": "code",
   "execution_count": null,
   "id": "c45062b0",
   "metadata": {},
   "outputs": [],
   "source": [
    "import ast\n",
    "input_list = ast.literal_eval(input())\n",
    "K = int(input())\n",
    "new_list =[]\n",
    "for i in input_list:\n",
    "    if i.isdigit():\n",
    "        new_list.append(str(int(i) + K))\n",
    "    else:\n",
    "        new_list.append(i)\n",
    "print(new_list)"
   ]
  },
  {
   "cell_type": "code",
   "execution_count": null,
   "id": "41493230",
   "metadata": {},
   "outputs": [],
   "source": []
  },
  {
   "cell_type": "code",
   "execution_count": null,
   "id": "2eb3c11c",
   "metadata": {},
   "outputs": [],
   "source": [
    "import ast\n",
    "input_list = ast.literal_eval(input())\n",
    "K = int(input()) - 1\n",
    "\n",
    "print(input_list[K:])"
   ]
  },
  {
   "cell_type": "code",
   "execution_count": null,
   "id": "9b440855",
   "metadata": {},
   "outputs": [],
   "source": []
  },
  {
   "cell_type": "code",
   "execution_count": null,
   "id": "8c88c9e1",
   "metadata": {},
   "outputs": [],
   "source": []
  }
 ],
 "metadata": {
  "kernelspec": {
   "display_name": "Python 3 (ipykernel)",
   "language": "python",
   "name": "python3"
  },
  "language_info": {
   "codemirror_mode": {
    "name": "ipython",
    "version": 3
   },
   "file_extension": ".py",
   "mimetype": "text/x-python",
   "name": "python",
   "nbconvert_exporter": "python",
   "pygments_lexer": "ipython3",
   "version": "3.11.5"
  }
 },
 "nbformat": 4,
 "nbformat_minor": 5
}
