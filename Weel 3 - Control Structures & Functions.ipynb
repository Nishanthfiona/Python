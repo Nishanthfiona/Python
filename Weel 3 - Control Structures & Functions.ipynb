{
 "cells": [
  {
   "cell_type": "code",
   "execution_count": 1,
   "id": "046c8209",
   "metadata": {
    "scrolled": true
   },
   "outputs": [
    {
     "ename": "IndentationError",
     "evalue": "expected an indented block after 'if' statement on line 3 (1825208694.py, line 4)",
     "output_type": "error",
     "traceback": [
      "\u001b[1;36m  Cell \u001b[1;32mIn[1], line 4\u001b[1;36m\u001b[0m\n\u001b[1;33m    print('YES')\u001b[0m\n\u001b[1;37m    ^\u001b[0m\n\u001b[1;31mIndentationError\u001b[0m\u001b[1;31m:\u001b[0m expected an indented block after 'if' statement on line 3\n"
     ]
    }
   ],
   "source": [
    "X = 12\n",
    "\n",
    "if (X > 10 & X < 15):\n",
    "print('YES')\n",
    "else:\n",
    "print('No')"
   ]
  },
  {
   "cell_type": "markdown",
   "id": "a03a121b",
   "metadata": {},
   "source": [
    "**Questions 1** "
   ]
  },
  {
   "cell_type": "markdown",
   "id": "0ccd5a15",
   "metadata": {},
   "source": [
    "Maximum of Three Numbers\n",
    "Complete the piece of code to print a maximum of three variables, a, b and c.\n",
    "\n",
    "a=10\n",
    "b=16\n",
    "c=20\n",
    "\n",
    "if( # missing part 1 # ):\n",
    "    print(\"a\")\n",
    "elif( # missing part 2 #):\n",
    "    print(\"b\")\n",
    "else:\n",
    "     print(\"c\")"
   ]
  },
  {
   "cell_type": "markdown",
   "id": "eba4a5c2",
   "metadata": {},
   "source": [
    "\n",
    "Missing Part 1: a > b and a > c           \n",
    "\n",
    "Missing Part 2: b > a and b > c # Solution"
   ]
  },
  {
   "cell_type": "markdown",
   "id": "52abeca7",
   "metadata": {},
   "source": [
    "**Question 2**"
   ]
  },
  {
   "cell_type": "markdown",
   "id": "c4f4b4d6",
   "metadata": {},
   "source": [
    "Reverse Engineering :\n",
    "Which of the following sequences of inputs would give the output 'C' 'A' 'D' 'B' over multiple iterations?"
   ]
  },
  {
   "cell_type": "markdown",
   "id": "38be672c",
   "metadata": {},
   "source": [
    "Given the code below, the output obtained in several runs is 'C' 'A' 'D' 'B'.\n",
    "if score >= 90:\n",
    "   print('A')\n",
    "elif score >=80:\n",
    "   print('B')\n",
    "elif score >= 70:\n",
    "   print('C')\n",
    "elif score >= 60:\n",
    "   print('D')\n",
    "else:\n",
    "   print('F')"
   ]
  },
  {
   "cell_type": "code",
   "execution_count": 14,
   "id": "4d1f0e8b",
   "metadata": {},
   "outputs": [
    {
     "name": "stdout",
     "output_type": "stream",
     "text": [
      "B\n"
     ]
    }
   ],
   "source": [
    "score = 88\n",
    "if score >= 90:\n",
    "   print('A')\n",
    "elif score >=80:\n",
    "   print('B')\n",
    "elif score >= 70:\n",
    "   print('C')\n",
    "elif score >= 60:\n",
    "   print('D')\n",
    "else:\n",
    "   print('F')"
   ]
  },
  {
   "cell_type": "code",
   "execution_count": 15,
   "id": "5021f3aa",
   "metadata": {},
   "outputs": [
    {
     "name": "stdout",
     "output_type": "stream",
     "text": [
      "B\n"
     ]
    }
   ],
   "source": [
    "if (10 < 0) and (0 < -10):\n",
    "    print(\"A\")\n",
    "elif (10 > 0) or False:\n",
    "    print(\"B\")\n",
    "else:\n",
    "    print(\"C\")"
   ]
  },
  {
   "cell_type": "code",
   "execution_count": 16,
   "id": "c374cda4",
   "metadata": {},
   "outputs": [
    {
     "name": "stdout",
     "output_type": "stream",
     "text": [
      "B\n"
     ]
    }
   ],
   "source": [
    "if True or True:\n",
    "    if False and True or False:\n",
    "        print('A')\n",
    "    elif False and False or True and True:\n",
    "        print('B')\n",
    "    else:\n",
    "        print('C')\n",
    "else:\n",
    "    print('D')"
   ]
  },
  {
   "cell_type": "code",
   "execution_count": null,
   "id": "94216c4c",
   "metadata": {},
   "outputs": [],
   "source": []
  },
  {
   "cell_type": "code",
   "execution_count": 17,
   "id": "9e216438",
   "metadata": {},
   "outputs": [],
   "source": [
    "input_str = \"GAARA\""
   ]
  },
  {
   "cell_type": "code",
   "execution_count": 18,
   "id": "47973f7a",
   "metadata": {},
   "outputs": [
    {
     "name": "stdout",
     "output_type": "stream",
     "text": [
      "NO\n"
     ]
    }
   ],
   "source": [
    "if input_str[0] in \"AEIOUaeiou\":\n",
    "    print(\"YES\")\n",
    "else:\n",
    "    print(\"NO\")"
   ]
  },
  {
   "cell_type": "code",
   "execution_count": 19,
   "id": "181e9038",
   "metadata": {},
   "outputs": [
    {
     "name": "stdout",
     "output_type": "stream",
     "text": [
      "Enter your four digit pin: 115\n",
      "Invalid input, please try again: \\654\n",
      "Invalid input, please try again: 4654\n",
      "Invalid input, please try again: 5454\n",
      "Invalid input, please try again: 45354\n",
      "Invalid input, please try again: 354534\n",
      "Invalid input, please try again: 1234\n",
      "Pin validation successful.\n"
     ]
    }
   ],
   "source": [
    "pin = input(\"Enter your four digit pin: \")\n",
    "while pin != '1234':                           #Pre-set pin is 1234\n",
    "    pin = input('Invalid input, please try again: ')  \n",
    "print(\"Pin validation successful.\")"
   ]
  },
  {
   "cell_type": "code",
   "execution_count": 1,
   "id": "e9bcbaaa",
   "metadata": {},
   "outputs": [
    {
     "name": "stdout",
     "output_type": "stream",
     "text": [
      "Enter your four digit pin: 64654\n",
      "Invalid input, please try again: 45+55\n",
      "Invalid input, please try again: +59+5+5+\n"
     ]
    },
    {
     "ename": "SystemExit",
     "evalue": "Too many invalid attempts",
     "output_type": "error",
     "traceback": [
      "An exception has occurred, use %tb to see the full traceback.\n",
      "\u001b[1;31mSystemExit\u001b[0m\u001b[1;31m:\u001b[0m Too many invalid attempts\n"
     ]
    },
    {
     "name": "stderr",
     "output_type": "stream",
     "text": [
      "C:\\Users\\GWG1\\anaconda3\\Lib\\site-packages\\IPython\\core\\interactiveshell.py:3534: UserWarning: To exit: use 'exit', 'quit', or Ctrl-D.\n",
      "  warn(\"To exit: use 'exit', 'quit', or Ctrl-D.\", stacklevel=1)\n"
     ]
    }
   ],
   "source": [
    "import sys    #required for exiting the code and displaying an error\n",
    "\n",
    "pin = input(\"Enter your four digit pin: \")\n",
    "attempt_count = 1\n",
    "while pin != '1234':\n",
    "    if attempt_count >= 3:\n",
    "     sys.exit(\"Too many invalid attempts\")   #error code\n",
    "    pin = input('Invalid input, please try again: ')  \n",
    "    attempt_count += 1\n",
    "print(\"Pin validation successful.\")"
   ]
  },
  {
   "cell_type": "code",
   "execution_count": null,
   "id": "482b9852",
   "metadata": {},
   "outputs": [],
   "source": []
  },
  {
   "cell_type": "code",
   "execution_count": 6,
   "id": "833be68f",
   "metadata": {},
   "outputs": [],
   "source": [
    "d = {1:[\"one\",21],2:[\"one\",22],3:[\"one\",23]}"
   ]
  },
  {
   "cell_type": "code",
   "execution_count": 11,
   "id": "6fd4bc7b",
   "metadata": {},
   "outputs": [
    {
     "name": "stdout",
     "output_type": "stream",
     "text": [
      "1\n",
      "2\n",
      "3\n"
     ]
    }
   ],
   "source": [
    "for x in d.keys():print(x)"
   ]
  },
  {
   "cell_type": "code",
   "execution_count": 16,
   "id": "b39b2d5a",
   "metadata": {},
   "outputs": [],
   "source": [
    "dy = \"Nishanth\""
   ]
  },
  {
   "cell_type": "code",
   "execution_count": 20,
   "id": "dfb217a6",
   "metadata": {},
   "outputs": [
    {
     "name": "stdout",
     "output_type": "stream",
     "text": [
      "Nishanth"
     ]
    }
   ],
   "source": [
    "for x in dy:print(x,end=\"\")"
   ]
  },
  {
   "cell_type": "code",
   "execution_count": 24,
   "id": "5253bfb2",
   "metadata": {},
   "outputs": [],
   "source": [
    "L1 = [10, 20, 30, 24, 18]\n",
    "L2 = [8, 14, 15, 20, 10]\n",
    "L3=[]\n",
    "for  i in range(len(L1)):\n",
    "    L3.append(L2[i] -L1[i])"
   ]
  },
  {
   "cell_type": "code",
   "execution_count": 25,
   "id": "38b48cd9",
   "metadata": {},
   "outputs": [
    {
     "data": {
      "text/plain": [
       "[-2, -6, -15, -4, -8]"
      ]
     },
     "execution_count": 25,
     "metadata": {},
     "output_type": "execute_result"
    }
   ],
   "source": [
    "L3"
   ]
  },
  {
   "cell_type": "code",
   "execution_count": null,
   "id": "4c79dbaa",
   "metadata": {},
   "outputs": [],
   "source": [
    "import ast,sys\n",
    "input_str = sys.stdin.read()\n",
    "input_list = ast.literal_eval(input_str)\n",
    "new = []\n",
    "for i in input_list:\n",
    "    new.append(i.title())\n",
    "print(new)"
   ]
  },
  {
   "cell_type": "code",
   "execution_count": null,
   "id": "2eeeadb3",
   "metadata": {},
   "outputs": [],
   "source": []
  },
  {
   "cell_type": "code",
   "execution_count": 26,
   "id": "0a983150",
   "metadata": {},
   "outputs": [
    {
     "name": "stdout",
     "output_type": "stream",
     "text": [
      "Enter the upper limit (positive integer): 20\n",
      "Prime numbers up to 20 :\n",
      "2\n",
      "3\n",
      "5\n",
      "7\n",
      "11\n",
      "13\n",
      "17\n",
      "19\n"
     ]
    }
   ],
   "source": [
    "limit = int(input(\"Enter the upper limit (positive integer): \"))\n",
    "\n",
    "print(\"Prime numbers up to\", limit, \":\")\n",
    "\n",
    "for num in range(2, limit + 1):\n",
    "  is_prime = True\n",
    "  for i in range(2, int(num**0.5) + 1):\n",
    "    if num % i == 0:\n",
    "      is_prime = False\n",
    "      break  # Exit the inner loop if a divisor is found\n",
    "  if is_prime:\n",
    "    print(num)\n"
   ]
  },
  {
   "cell_type": "code",
   "execution_count": 30,
   "id": "58fa99cf",
   "metadata": {
    "scrolled": true
   },
   "outputs": [
    {
     "name": "stdout",
     "output_type": "stream",
     "text": [
      "2 is prime\n",
      "3 is prime\n",
      "4 is not prime\n",
      "5 is prime\n",
      "6 is not prime\n",
      "7 is prime\n",
      "8 is not prime\n",
      "9 is not prime\n",
      "10 is not prime\n",
      "11 is prime\n",
      "12 is not prime\n",
      "13 is prime\n",
      "14 is not prime\n",
      "15 is not prime\n",
      "16 is not prime\n",
      "17 is prime\n",
      "18 is not prime\n",
      "19 is prime\n"
     ]
    }
   ],
   "source": [
    "for i in range(2,20): \n",
    "    flag = True\n",
    "    for n in range(2,i):\n",
    "        if i%n == 0:\n",
    "            print(i,\"is not prime\")\n",
    "            flag = False\n",
    "            break        \n",
    "    if flag == True:print(i, \"is prime\")\n",
    "         "
   ]
  },
  {
   "cell_type": "code",
   "execution_count": 31,
   "id": "36b23c6d",
   "metadata": {
    "scrolled": true
   },
   "outputs": [
    {
     "data": {
      "text/plain": [
       "[-100,\n",
       " -98,\n",
       " -96,\n",
       " -94,\n",
       " -92,\n",
       " -90,\n",
       " -88,\n",
       " -86,\n",
       " -84,\n",
       " -82,\n",
       " -80,\n",
       " -78,\n",
       " -76,\n",
       " -74,\n",
       " -72,\n",
       " -70,\n",
       " -68,\n",
       " -66,\n",
       " -64,\n",
       " -62,\n",
       " -60,\n",
       " -58,\n",
       " -56,\n",
       " -54,\n",
       " -52,\n",
       " -50,\n",
       " -48,\n",
       " -46,\n",
       " -44,\n",
       " -42,\n",
       " -40,\n",
       " -38,\n",
       " -36,\n",
       " -34,\n",
       " -32,\n",
       " -30,\n",
       " -28,\n",
       " -26,\n",
       " -24,\n",
       " -22,\n",
       " -20,\n",
       " -18,\n",
       " -16,\n",
       " -14,\n",
       " -12,\n",
       " -10,\n",
       " -8,\n",
       " -6,\n",
       " -4,\n",
       " -2]"
      ]
     },
     "execution_count": 31,
     "metadata": {},
     "output_type": "execute_result"
    }
   ],
   "source": [
    "\n",
    "l = []\n",
    "for i in range(-100, 0):\n",
    "    if(i % 2 == 0):\n",
    "        l.append(i)\n",
    "l"
   ]
  },
  {
   "cell_type": "code",
   "execution_count": 32,
   "id": "83767421",
   "metadata": {
    "scrolled": true
   },
   "outputs": [
    {
     "data": {
      "text/plain": [
       "[-100,\n",
       " -98,\n",
       " -96,\n",
       " -94,\n",
       " -92,\n",
       " -90,\n",
       " -88,\n",
       " -86,\n",
       " -84,\n",
       " -82,\n",
       " -80,\n",
       " -78,\n",
       " -76,\n",
       " -74,\n",
       " -72,\n",
       " -70,\n",
       " -68,\n",
       " -66,\n",
       " -64,\n",
       " -62,\n",
       " -60,\n",
       " -58,\n",
       " -56,\n",
       " -54,\n",
       " -52,\n",
       " -50,\n",
       " -48,\n",
       " -46,\n",
       " -44,\n",
       " -42,\n",
       " -40,\n",
       " -38,\n",
       " -36,\n",
       " -34,\n",
       " -32,\n",
       " -30,\n",
       " -28,\n",
       " -26,\n",
       " -24,\n",
       " -22,\n",
       " -20,\n",
       " -18,\n",
       " -16,\n",
       " -14,\n",
       " -12,\n",
       " -10,\n",
       " -8,\n",
       " -6,\n",
       " -4,\n",
       " -2]"
      ]
     },
     "execution_count": 32,
     "metadata": {},
     "output_type": "execute_result"
    }
   ],
   "source": [
    "sorted(set(range(-2, -101, -2)))"
   ]
  },
  {
   "cell_type": "code",
   "execution_count": 33,
   "id": "36021896",
   "metadata": {
    "scrolled": true
   },
   "outputs": [
    {
     "data": {
      "text/plain": [
       "[-100,\n",
       " -98,\n",
       " -96,\n",
       " -94,\n",
       " -92,\n",
       " -90,\n",
       " -88,\n",
       " -86,\n",
       " -84,\n",
       " -82,\n",
       " -80,\n",
       " -78,\n",
       " -76,\n",
       " -74,\n",
       " -72,\n",
       " -70,\n",
       " -68,\n",
       " -66,\n",
       " -64,\n",
       " -62,\n",
       " -60,\n",
       " -58,\n",
       " -56,\n",
       " -54,\n",
       " -52,\n",
       " -50,\n",
       " -48,\n",
       " -46,\n",
       " -44,\n",
       " -42,\n",
       " -40,\n",
       " -38,\n",
       " -36,\n",
       " -34,\n",
       " -32,\n",
       " -30,\n",
       " -28,\n",
       " -26,\n",
       " -24,\n",
       " -22,\n",
       " -20,\n",
       " -18,\n",
       " -16,\n",
       " -14,\n",
       " -12,\n",
       " -10,\n",
       " -8,\n",
       " -6,\n",
       " -4,\n",
       " -2]"
      ]
     },
     "execution_count": 33,
     "metadata": {},
     "output_type": "execute_result"
    }
   ],
   "source": [
    "list(range(-100, -1, 2))"
   ]
  },
  {
   "cell_type": "code",
   "execution_count": 34,
   "id": "a80ff3ca",
   "metadata": {},
   "outputs": [
    {
     "name": "stdout",
     "output_type": "stream",
     "text": [
      "0\n",
      "1\n",
      "2\n"
     ]
    }
   ],
   "source": [
    "d = {0: 'Fish', 1: 'Bird', 2: 'Mammal'}\n",
    "for i in d:\n",
    "    print(i)"
   ]
  },
  {
   "cell_type": "code",
   "execution_count": 35,
   "id": "4a701e84",
   "metadata": {},
   "outputs": [
    {
     "name": "stdout",
     "output_type": "stream",
     "text": [
      "{2: 4, 4: 16, 6: 36, 8: 64, 10: 100, 12: 144, 14: 196, 16: 256, 18: 324, 20: 400}\n"
     ]
    }
   ],
   "source": [
    "updated_dict = {i : i**2 for i in range(2,21) if i % 2 ==0}\n",
    "print(updated_dict)"
   ]
  },
  {
   "cell_type": "code",
   "execution_count": null,
   "id": "ee82b42e",
   "metadata": {},
   "outputs": [],
   "source": [
    "import ast, sys\n",
    "n = int(input())\n",
    "\n",
    "print([i**2 for i in range(1,n+1)])"
   ]
  },
  {
   "cell_type": "code",
   "execution_count": null,
   "id": "623cc52e",
   "metadata": {},
   "outputs": [],
   "source": []
  },
  {
   "cell_type": "code",
   "execution_count": 36,
   "id": "8b29ccac",
   "metadata": {},
   "outputs": [
    {
     "name": "stdout",
     "output_type": "stream",
     "text": [
      "['old', 'apple', 'item', 'euphoria']\n"
     ]
    }
   ],
   "source": [
    "\n",
    "input_list = ['wood','old','apple','big','item','euphoria']\n",
    "\n",
    "list_vowel = [input_list[i] for i in range(0,len(input_list)) if input_list[i][0] in \"aeiouAEIOU\"]\n",
    "\n",
    "print(list_vowel)"
   ]
  },
  {
   "cell_type": "code",
   "execution_count": null,
   "id": "a91492a7",
   "metadata": {},
   "outputs": [],
   "source": [
    "import ast,sys\n",
    "input_str = sys.stdin.read()\n",
    "input_list = ast.literal_eval(input_str)\n",
    "\n",
    "list_vowel = [input_list[i] for i in range(0,len(input_list)) if input_list[i][0] in \"aeiouAEIOU\"]\n",
    "\n",
    "print(list_vowel)"
   ]
  },
  {
   "cell_type": "code",
   "execution_count": null,
   "id": "76bb5eed",
   "metadata": {},
   "outputs": [],
   "source": []
  },
  {
   "cell_type": "code",
   "execution_count": null,
   "id": "0680e921",
   "metadata": {},
   "outputs": [],
   "source": []
  },
  {
   "cell_type": "code",
   "execution_count": null,
   "id": "0282c78d",
   "metadata": {},
   "outputs": [],
   "source": []
  },
  {
   "cell_type": "code",
   "execution_count": null,
   "id": "37e74dc8",
   "metadata": {},
   "outputs": [],
   "source": []
  },
  {
   "cell_type": "code",
   "execution_count": null,
   "id": "836c9f14",
   "metadata": {},
   "outputs": [],
   "source": []
  },
  {
   "cell_type": "code",
   "execution_count": null,
   "id": "710286a8",
   "metadata": {},
   "outputs": [],
   "source": []
  },
  {
   "cell_type": "code",
   "execution_count": 37,
   "id": "bedefc40",
   "metadata": {},
   "outputs": [
    {
     "ename": "SyntaxError",
     "evalue": "invalid syntax (1808746157.py, line 1)",
     "output_type": "error",
     "traceback": [
      "\u001b[1;36m  Cell \u001b[1;32mIn[37], line 1\u001b[1;36m\u001b[0m\n\u001b[1;33m    output_dict= [val:val**3 for val in input_list if val%3=0]\u001b[0m\n\u001b[1;37m                     ^\u001b[0m\n\u001b[1;31mSyntaxError\u001b[0m\u001b[1;31m:\u001b[0m invalid syntax\n"
     ]
    }
   ],
   "source": [
    "output_dict= [val:val**3 for val in input_list if val%3=0]"
   ]
  },
  {
   "cell_type": "code",
   "execution_count": 38,
   "id": "1efe5f81",
   "metadata": {},
   "outputs": [
    {
     "ename": "SyntaxError",
     "evalue": "invalid syntax (3227451013.py, line 1)",
     "output_type": "error",
     "traceback": [
      "\u001b[1;36m  Cell \u001b[1;32mIn[38], line 1\u001b[1;36m\u001b[0m\n\u001b[1;33m    output_dict= {for val in input_list if val%3==0 val:val**3 }\u001b[0m\n\u001b[1;37m                  ^\u001b[0m\n\u001b[1;31mSyntaxError\u001b[0m\u001b[1;31m:\u001b[0m invalid syntax\n"
     ]
    }
   ],
   "source": [
    "output_dict= {for val in input_list if val%3==0 val:val**3 }"
   ]
  },
  {
   "cell_type": "code",
   "execution_count": 39,
   "id": "a656ac57",
   "metadata": {},
   "outputs": [
    {
     "ename": "TypeError",
     "evalue": "not all arguments converted during string formatting",
     "output_type": "error",
     "traceback": [
      "\u001b[1;31m---------------------------------------------------------------------------\u001b[0m",
      "\u001b[1;31mTypeError\u001b[0m                                 Traceback (most recent call last)",
      "Cell \u001b[1;32mIn[39], line 1\u001b[0m\n\u001b[1;32m----> 1\u001b[0m output_dict\u001b[38;5;241m=\u001b[39m {val : val\u001b[38;5;241m*\u001b[39m\u001b[38;5;241m*\u001b[39m\u001b[38;5;241m3\u001b[39m \u001b[38;5;28;01mfor\u001b[39;00m val \u001b[38;5;129;01min\u001b[39;00m input_list \u001b[38;5;28;01mif\u001b[39;00m val \u001b[38;5;241m%\u001b[39m \u001b[38;5;241m3\u001b[39m \u001b[38;5;241m==\u001b[39m \u001b[38;5;241m0\u001b[39m}\n",
      "Cell \u001b[1;32mIn[39], line 1\u001b[0m, in \u001b[0;36m<dictcomp>\u001b[1;34m(.0)\u001b[0m\n\u001b[1;32m----> 1\u001b[0m output_dict\u001b[38;5;241m=\u001b[39m {val : val\u001b[38;5;241m*\u001b[39m\u001b[38;5;241m*\u001b[39m\u001b[38;5;241m3\u001b[39m \u001b[38;5;28;01mfor\u001b[39;00m val \u001b[38;5;129;01min\u001b[39;00m input_list \u001b[38;5;28;01mif\u001b[39;00m val \u001b[38;5;241m%\u001b[39m \u001b[38;5;241m3\u001b[39m \u001b[38;5;241m==\u001b[39m \u001b[38;5;241m0\u001b[39m}\n",
      "\u001b[1;31mTypeError\u001b[0m: not all arguments converted during string formatting"
     ]
    }
   ],
   "source": [
    "output_dict= {val : val**3 for val in input_list if val % 3 == 0}"
   ]
  },
  {
   "cell_type": "code",
   "execution_count": 40,
   "id": "8147e222",
   "metadata": {},
   "outputs": [
    {
     "ename": "SyntaxError",
     "evalue": "invalid syntax (3394465945.py, line 1)",
     "output_type": "error",
     "traceback": [
      "\u001b[1;36m  Cell \u001b[1;32mIn[40], line 1\u001b[1;36m\u001b[0m\n\u001b[1;33m    output_dict= { if val%3==0 val:val**3 for val in input_list}\u001b[0m\n\u001b[1;37m                   ^\u001b[0m\n\u001b[1;31mSyntaxError\u001b[0m\u001b[1;31m:\u001b[0m invalid syntax\n"
     ]
    }
   ],
   "source": [
    "output_dict= { if val%3==0 val:val**3 for val in input_list}"
   ]
  },
  {
   "cell_type": "code",
   "execution_count": 41,
   "id": "8e5f72d3",
   "metadata": {},
   "outputs": [
    {
     "name": "stdout",
     "output_type": "stream",
     "text": [
      "['ad', 'ae', 'af', 'bd', 'be', 'bf', 'cd', 'ce', 'cf']\n"
     ]
    }
   ],
   "source": [
    "print([i+j for i in \"abc\" for j in \"def\"])"
   ]
  },
  {
   "cell_type": "code",
   "execution_count": 42,
   "id": "6792de46",
   "metadata": {},
   "outputs": [
    {
     "name": "stdout",
     "output_type": "stream",
     "text": [
      "{'A': 'aaa', 'C': 'ccc', 'B': 'bbb', 'D': 'ddd'}\n"
     ]
    }
   ],
   "source": [
    "d = {x.upper(): x*3 for x in 'acbd'}\n",
    "print(d)"
   ]
  },
  {
   "cell_type": "code",
   "execution_count": 43,
   "id": "f4037c50",
   "metadata": {},
   "outputs": [],
   "source": [
    "def func(name,age = 25,city = \"Newyork\"):\n",
    "    print(name,age,city)"
   ]
  },
  {
   "cell_type": "code",
   "execution_count": 49,
   "id": "86562402",
   "metadata": {},
   "outputs": [
    {
     "name": "stdout",
     "output_type": "stream",
     "text": [
      "nishanth 25 Chennai\n"
     ]
    }
   ],
   "source": [
    "func(\"nishanth\",city = \"Chennai\")"
   ]
  },
  {
   "cell_type": "code",
   "execution_count": 50,
   "id": "1cfbf0d8",
   "metadata": {},
   "outputs": [],
   "source": [
    "def fun(*args):\n",
    "    print(args)"
   ]
  },
  {
   "cell_type": "code",
   "execution_count": 51,
   "id": "3f15f236",
   "metadata": {
    "scrolled": true
   },
   "outputs": [
    {
     "name": "stdout",
     "output_type": "stream",
     "text": [
      "(54, 'gjnsrgnlgrlg', 364)\n"
     ]
    }
   ],
   "source": [
    "fun(54,\"gjnsrgnlgrlg\",364)"
   ]
  },
  {
   "cell_type": "code",
   "execution_count": null,
   "id": "24c57825",
   "metadata": {},
   "outputs": [],
   "source": []
  },
  {
   "cell_type": "code",
   "execution_count": 160,
   "id": "edefc638",
   "metadata": {},
   "outputs": [
    {
     "data": {
      "text/plain": [
       "23"
      ]
     },
     "execution_count": 160,
     "metadata": {},
     "output_type": "execute_result"
    }
   ],
   "source": [
    "def func(x, y = 1):\n",
    "    z = x * y + x + y\n",
    "    return z\n",
    "\n",
    "func(2, func(3))"
   ]
  },
  {
   "cell_type": "code",
   "execution_count": 161,
   "id": "0dd906a6",
   "metadata": {},
   "outputs": [
    {
     "ename": "TypeError",
     "evalue": "func() missing 1 required positional argument: 'y'",
     "output_type": "error",
     "traceback": [
      "\u001b[1;31m---------------------------------------------------------------------------\u001b[0m",
      "\u001b[1;31mTypeError\u001b[0m                                 Traceback (most recent call last)",
      "Cell \u001b[1;32mIn[161], line 5\u001b[0m\n\u001b[0;32m      2\u001b[0m     z \u001b[38;5;241m=\u001b[39m x \u001b[38;5;241m*\u001b[39m y \u001b[38;5;241m+\u001b[39m x \u001b[38;5;241m+\u001b[39m y\n\u001b[0;32m      3\u001b[0m     \u001b[38;5;28;01mreturn\u001b[39;00m z\n\u001b[1;32m----> 5\u001b[0m func(\u001b[38;5;241m2\u001b[39m, func(\u001b[38;5;241m3\u001b[39m))\n",
      "\u001b[1;31mTypeError\u001b[0m: func() missing 1 required positional argument: 'y'"
     ]
    }
   ],
   "source": [
    "def func(x, y):\n",
    "    z = x * y + x + y\n",
    "    return z\n",
    "\n",
    "func(2, func(3))"
   ]
  },
  {
   "cell_type": "code",
   "execution_count": 162,
   "id": "a0fd21f1",
   "metadata": {},
   "outputs": [
    {
     "data": {
      "text/plain": [
       "35"
      ]
     },
     "execution_count": 162,
     "metadata": {},
     "output_type": "execute_result"
    }
   ],
   "source": [
    "def func(x = 1 ,y = 2):\n",
    "    z = x * y + x + y\n",
    "    return z\n",
    "\n",
    "func(2, func(3))"
   ]
  },
  {
   "cell_type": "code",
   "execution_count": 167,
   "id": "6a870cbc",
   "metadata": {},
   "outputs": [
    {
     "data": {
      "text/plain": [
       "[-2, 33, 46, 78, 1]"
      ]
     },
     "execution_count": 167,
     "metadata": {},
     "output_type": "execute_result"
    }
   ],
   "source": [
    "L1 = [2, 7, 8, 10, 3]\n",
    "\n",
    "def func(y):\n",
    "    return y**2 - 2 * y - 2\n",
    "\n",
    "ans_list = [func(x) for x in L1 ]\n",
    "ans_list"
   ]
  },
  {
   "cell_type": "code",
   "execution_count": null,
   "id": "bf278995",
   "metadata": {},
   "outputs": [],
   "source": []
  },
  {
   "cell_type": "code",
   "execution_count": null,
   "id": "6b827d8b",
   "metadata": {},
   "outputs": [],
   "source": []
  },
  {
   "cell_type": "code",
   "execution_count": null,
   "id": "6a80f577",
   "metadata": {},
   "outputs": [],
   "source": []
  },
  {
   "cell_type": "code",
   "execution_count": 52,
   "id": "5fc3093b",
   "metadata": {},
   "outputs": [
    {
     "data": {
      "text/plain": [
       "9996"
      ]
     },
     "execution_count": 52,
     "metadata": {},
     "output_type": "execute_result"
    }
   ],
   "source": [
    "min = (lambda x, y: x if x < y else y)\n",
    "min(101*99, 102*98)\n"
   ]
  },
  {
   "cell_type": "code",
   "execution_count": 53,
   "id": "d4f07948",
   "metadata": {},
   "outputs": [],
   "source": [
    "s = ['ad', 'ae', 'af', 'bd', 'be', 'bf', 'cd', 'ce', 'cf']"
   ]
  },
  {
   "cell_type": "code",
   "execution_count": 54,
   "id": "cce60031",
   "metadata": {},
   "outputs": [],
   "source": [
    "f = lambda x : x*2"
   ]
  },
  {
   "cell_type": "code",
   "execution_count": 56,
   "id": "e9683774",
   "metadata": {},
   "outputs": [
    {
     "data": {
      "text/plain": [
       "'adad'"
      ]
     },
     "execution_count": 56,
     "metadata": {},
     "output_type": "execute_result"
    }
   ],
   "source": [
    "f(\"ad\")"
   ]
  },
  {
   "cell_type": "code",
   "execution_count": 57,
   "id": "eeea6a03",
   "metadata": {},
   "outputs": [
    {
     "data": {
      "text/plain": [
       "<map at 0x1d197e867a0>"
      ]
     },
     "execution_count": 57,
     "metadata": {},
     "output_type": "execute_result"
    }
   ],
   "source": [
    "map(f,s)"
   ]
  },
  {
   "cell_type": "code",
   "execution_count": 67,
   "id": "337f0867",
   "metadata": {},
   "outputs": [
    {
     "data": {
      "text/plain": [
       "['adad', 'aeae', 'afaf', 'bdbd', 'bebe', 'bfbf', 'cdcd', 'cece', 'cfcf']"
      ]
     },
     "execution_count": 67,
     "metadata": {},
     "output_type": "execute_result"
    }
   ],
   "source": [
    "list(map(f,s))"
   ]
  },
  {
   "cell_type": "code",
   "execution_count": 62,
   "id": "6ca94d44",
   "metadata": {},
   "outputs": [
    {
     "data": {
      "text/plain": [
       "['ad',\n",
       " 'ae',\n",
       " 'af',\n",
       " 'bd',\n",
       " 'be',\n",
       " 'bf',\n",
       " 'cd',\n",
       " 'ce',\n",
       " 'cf',\n",
       " 'ad',\n",
       " 'ae',\n",
       " 'af',\n",
       " 'bd',\n",
       " 'be',\n",
       " 'bf',\n",
       " 'cd',\n",
       " 'ce',\n",
       " 'cf']"
      ]
     },
     "execution_count": 62,
     "metadata": {},
     "output_type": "execute_result"
    }
   ],
   "source": [
    "f(s)"
   ]
  },
  {
   "cell_type": "code",
   "execution_count": 63,
   "id": "05c0019e",
   "metadata": {},
   "outputs": [
    {
     "data": {
      "text/plain": [
       "9"
      ]
     },
     "execution_count": 63,
     "metadata": {},
     "output_type": "execute_result"
    }
   ],
   "source": [
    "len(s)"
   ]
  },
  {
   "cell_type": "code",
   "execution_count": 64,
   "id": "851d9ad3",
   "metadata": {},
   "outputs": [
    {
     "data": {
      "text/plain": [
       "18"
      ]
     },
     "execution_count": 64,
     "metadata": {},
     "output_type": "execute_result"
    }
   ],
   "source": [
    "len(f(s))"
   ]
  },
  {
   "cell_type": "code",
   "execution_count": 71,
   "id": "abd53047",
   "metadata": {},
   "outputs": [],
   "source": [
    "l = [ 1,2,3,4,5,6,7,8,9,10]"
   ]
  },
  {
   "cell_type": "code",
   "execution_count": 72,
   "id": "cbe326cf",
   "metadata": {},
   "outputs": [
    {
     "data": {
      "text/plain": [
       "[1, 4, 9, 16, 25, 36, 49, 64, 81, 100]"
      ]
     },
     "execution_count": 72,
     "metadata": {},
     "output_type": "execute_result"
    }
   ],
   "source": [
    "list(map(lambda x : x**2,l))"
   ]
  },
  {
   "cell_type": "code",
   "execution_count": 73,
   "id": "7af71080",
   "metadata": {},
   "outputs": [],
   "source": [
    "x = [1, 4, 9, 16, 25, 36, 49, 64, 81, 100]"
   ]
  },
  {
   "cell_type": "code",
   "execution_count": 74,
   "id": "9b903d93",
   "metadata": {},
   "outputs": [],
   "source": [
    "s = lambda x : x%2 ==0"
   ]
  },
  {
   "cell_type": "code",
   "execution_count": 78,
   "id": "d7d32487",
   "metadata": {},
   "outputs": [
    {
     "data": {
      "text/plain": [
       "[4, 16, 36, 64, 100]"
      ]
     },
     "execution_count": 78,
     "metadata": {},
     "output_type": "execute_result"
    }
   ],
   "source": [
    "list(filter(s,x))"
   ]
  },
  {
   "cell_type": "code",
   "execution_count": 93,
   "id": "e7c7504a",
   "metadata": {},
   "outputs": [],
   "source": [
    "dy = {'person1': ['Alice', 25],\n",
    "    'person2': ['Bob', 30],\n",
    "    'person3': ['Charlie', 35],\n",
    "    'person4': ['David', 40],\n",
    "    'person5': ['Eve', 45],\n",
    "    'person6': ['Frank', 50],\n",
    "    'person7': ['Grace', 55],\n",
    "    'person8': ['Helen', 60],\n",
    "    'person9': ['Ian', 65],\n",
    "    'person10': ['Jack', 70]\n",
    "}"
   ]
  },
  {
   "cell_type": "code",
   "execution_count": 94,
   "id": "07164b79",
   "metadata": {},
   "outputs": [
    {
     "data": {
      "text/plain": [
       "{'person1': ['Alice', 25],\n",
       " 'person2': ['Bob', 30],\n",
       " 'person3': ['Charlie', 35],\n",
       " 'person4': ['David', 40],\n",
       " 'person5': ['Eve', 45],\n",
       " 'person6': ['Frank', 50],\n",
       " 'person7': ['Grace', 55],\n",
       " 'person8': ['Helen', 60],\n",
       " 'person9': ['Ian', 65],\n",
       " 'person10': ['Jack', 70]}"
      ]
     },
     "execution_count": 94,
     "metadata": {},
     "output_type": "execute_result"
    }
   ],
   "source": [
    "dy"
   ]
  },
  {
   "cell_type": "code",
   "execution_count": 95,
   "id": "d6b59d5e",
   "metadata": {},
   "outputs": [],
   "source": [
    "y = lambda x : x[1] > 40 "
   ]
  },
  {
   "cell_type": "code",
   "execution_count": 97,
   "id": "5ec9d685",
   "metadata": {},
   "outputs": [
    {
     "data": {
      "text/plain": [
       "False"
      ]
     },
     "execution_count": 97,
     "metadata": {},
     "output_type": "execute_result"
    }
   ],
   "source": [
    "y(['Nishanth',35])"
   ]
  },
  {
   "cell_type": "code",
   "execution_count": 98,
   "id": "852bb210",
   "metadata": {},
   "outputs": [
    {
     "data": {
      "text/plain": [
       "[['Eve', 45],\n",
       " ['Frank', 50],\n",
       " ['Grace', 55],\n",
       " ['Helen', 60],\n",
       " ['Ian', 65],\n",
       " ['Jack', 70]]"
      ]
     },
     "execution_count": 98,
     "metadata": {},
     "output_type": "execute_result"
    }
   ],
   "source": [
    "list(filter(y,dy.values()))"
   ]
  },
  {
   "cell_type": "code",
   "execution_count": 106,
   "id": "601437df",
   "metadata": {},
   "outputs": [],
   "source": [
    "from functools import reduce"
   ]
  },
  {
   "cell_type": "code",
   "execution_count": 107,
   "id": "adef668e",
   "metadata": {},
   "outputs": [],
   "source": [
    "l = [ 1,2,3,4,5,6,7,8,9,10]"
   ]
  },
  {
   "cell_type": "code",
   "execution_count": 108,
   "id": "9c6ec65e",
   "metadata": {},
   "outputs": [],
   "source": [
    "f = lambda x,y : x+y"
   ]
  },
  {
   "cell_type": "code",
   "execution_count": 109,
   "id": "a871a8de",
   "metadata": {},
   "outputs": [
    {
     "data": {
      "text/plain": [
       "2"
      ]
     },
     "execution_count": 109,
     "metadata": {},
     "output_type": "execute_result"
    }
   ],
   "source": [
    "f(2,0)"
   ]
  },
  {
   "cell_type": "code",
   "execution_count": 110,
   "id": "2f16c13e",
   "metadata": {},
   "outputs": [],
   "source": [
    "x = reduce(f,l)"
   ]
  },
  {
   "cell_type": "code",
   "execution_count": 111,
   "id": "c3d0768a",
   "metadata": {},
   "outputs": [
    {
     "data": {
      "text/plain": [
       "55"
      ]
     },
     "execution_count": 111,
     "metadata": {},
     "output_type": "execute_result"
    }
   ],
   "source": [
    "x"
   ]
  },
  {
   "cell_type": "code",
   "execution_count": 112,
   "id": "6f656ffb",
   "metadata": {},
   "outputs": [
    {
     "data": {
      "text/plain": [
       "'PaulTed'"
      ]
     },
     "execution_count": 112,
     "metadata": {},
     "output_type": "execute_result"
    }
   ],
   "source": [
    "from functools import reduce\n",
    "list_1 = ['Paul','Ted']\n",
    "reduce(lambda x,y: x + y,list_1)"
   ]
  },
  {
   "cell_type": "code",
   "execution_count": null,
   "id": "6c86b243",
   "metadata": {},
   "outputs": [],
   "source": []
  },
  {
   "cell_type": "code",
   "execution_count": null,
   "id": "7dd01c8a",
   "metadata": {},
   "outputs": [],
   "source": []
  },
  {
   "cell_type": "code",
   "execution_count": 115,
   "id": "ed22c716",
   "metadata": {},
   "outputs": [
    {
     "name": "stdout",
     "output_type": "stream",
     "text": [
      "Enter a word in small caps:fjsefkjr\n",
      "The word belongs to red team\n"
     ]
    }
   ],
   "source": [
    "x = input(\"Enter a word in small caps:\")\n",
    "for i in x:\n",
    "    count=0\n",
    "    if i == \"r\":\n",
    "        count =1\n",
    "        break\n",
    "if count == 1:\n",
    "    print(\"The word belongs to red team\")   "
   ]
  },
  {
   "cell_type": "code",
   "execution_count": 124,
   "id": "915909ef",
   "metadata": {},
   "outputs": [
    {
     "name": "stdout",
     "output_type": "stream",
     "text": [
      "Enter a word in small caps:ahefbhffbsfbshfbshf\n",
      "Blue team\n"
     ]
    }
   ],
   "source": [
    "x = input(\"Enter a word in small caps:\")\n",
    "for i in x:\n",
    "    red = 0\n",
    "    blue = 0\n",
    "    no = 0\n",
    "    if i == \"r\":\n",
    "        print(\"The word belongs to red team\")\n",
    "        red = 1\n",
    "        break\n",
    "    elif i ==\"b\":\n",
    "        print(\"Blue team\")\n",
    "        blue = 1\n",
    "        break\n",
    "if red== 0 and blue ==0:\n",
    "    print(\"No Team\")"
   ]
  },
  {
   "cell_type": "code",
   "execution_count": 131,
   "id": "6be13ea1",
   "metadata": {},
   "outputs": [
    {
     "name": "stdout",
     "output_type": "stream",
     "text": [
      "enter the upper limit:50\n",
      "17\n",
      "34\n"
     ]
    }
   ],
   "source": [
    "n = int(input(\"enter the upper limit:\"))\n",
    "\n",
    "for i in range(1,n+1):\n",
    "    if i % 17 ==0:\n",
    "        print(i)"
   ]
  },
  {
   "cell_type": "code",
   "execution_count": 132,
   "id": "83b8e9b5",
   "metadata": {},
   "outputs": [
    {
     "data": {
      "text/plain": [
       "[19, 111, 47, 58, 77, 20, 15, 18, 91, 103, 337, 124, 670, 451]"
      ]
     },
     "execution_count": 132,
     "metadata": {},
     "output_type": "execute_result"
    }
   ],
   "source": [
    "sample_list = [6, 98, 34, 45, 64, 7, 2, 5, 78, 90, 324, 111, 657, 438]\n",
    "\n",
    "list(map(lambda x :x+13,sample_list))\n"
   ]
  },
  {
   "cell_type": "code",
   "execution_count": 134,
   "id": "9084b690",
   "metadata": {},
   "outputs": [
    {
     "data": {
      "text/plain": [
       "[19, 111, 47, 58, 77, 20, 15, 18, 91, 103, 337, 124, 670, 451]"
      ]
     },
     "execution_count": 134,
     "metadata": {},
     "output_type": "execute_result"
    }
   ],
   "source": [
    "[x + 13 for x in sample_list]"
   ]
  },
  {
   "cell_type": "code",
   "execution_count": 138,
   "id": "b7ba9183",
   "metadata": {},
   "outputs": [
    {
     "data": {
      "text/plain": [
       "[19, 111, 47, 58, 77, 20, 15, 18, 91, 103, 337, 124, 670, 451]"
      ]
     },
     "execution_count": 138,
     "metadata": {},
     "output_type": "execute_result"
    }
   ],
   "source": [
    "[x + 13 for x in sample_list]"
   ]
  },
  {
   "cell_type": "code",
   "execution_count": 139,
   "id": "eff5a41b",
   "metadata": {
    "scrolled": true
   },
   "outputs": [
    {
     "data": {
      "text/plain": [
       "{6: [1, 2, 3, 6],\n",
       " 98: [1, 2, 7, 14, 49, 98],\n",
       " 34: [1, 2, 17, 34],\n",
       " 45: [1, 3, 5, 9, 15, 45],\n",
       " 64: [1, 2, 4, 8, 16, 32, 64],\n",
       " 7: [1, 7],\n",
       " 2: [1, 2],\n",
       " 5: [1, 5],\n",
       " 78: [1, 2, 3, 6, 13, 26, 39, 78],\n",
       " 90: [1, 2, 3, 5, 6, 9, 10, 15, 18, 30, 45, 90],\n",
       " 324: [1, 2, 3, 4, 6, 9, 12, 18, 27, 36, 54, 81, 108, 162, 324],\n",
       " 111: [1, 3, 37, 111],\n",
       " 657: [1, 3, 9, 73, 219, 657],\n",
       " 438: [1, 2, 3, 6, 73, 146, 219, 438]}"
      ]
     },
     "execution_count": 139,
     "metadata": {},
     "output_type": "execute_result"
    }
   ],
   "source": [
    "sample_list = [6, 98, 34, 45, 64, 7, 2, 5, 78, 90, 324, 111, 657, 438]\n",
    "\n",
    "solu_dict = {}\n",
    "for num in sample_list:\n",
    "    fact_list = []\n",
    "    for i in range (1,num+1):\n",
    "        if num%i ==0:\n",
    "            fact_list.append(i)\n",
    "    solu_dict[num]=fact_list      \n",
    "solu_dict"
   ]
  },
  {
   "cell_type": "code",
   "execution_count": 140,
   "id": "be69ce65",
   "metadata": {},
   "outputs": [
    {
     "name": "stdout",
     "output_type": "stream",
     "text": [
      "{'w', 'f', 'l', 'k', 'q', 'x', 'y', 'n', 'a', 'c', 'r', 'b', 'v', 'i', 'j', 'P', 'z', ' ', 'm', 'o', 'd', 't', 's', 'e', 'u', 'g', 'h'}\n"
     ]
    },
    {
     "data": {
      "text/plain": [
       "27"
      ]
     },
     "execution_count": 140,
     "metadata": {},
     "output_type": "execute_result"
    }
   ],
   "source": [
    "sample_sentence = \"Pack my box with five dozen liquor jugs\"\n",
    "\n",
    "unique_letter = set(sample_sentence)\n",
    "number = len(unique_letter)\n",
    "print(unique_letter)\n",
    "number"
   ]
  },
  {
   "cell_type": "code",
   "execution_count": 141,
   "id": "b318ece4",
   "metadata": {},
   "outputs": [
    {
     "name": "stdout",
     "output_type": "stream",
     "text": [
      "Enter the operation you want to execute\n",
      "The available operations are 'add', 'subs', 'multi', 'div' subs\n",
      "Enter the first number15\n",
      "Enter the second number10\n",
      "Answer is  5\n"
     ]
    }
   ],
   "source": [
    "def calc(operation, x,y):\n",
    "    if operation == \"add\":\n",
    "        return x+y\n",
    "    if operation == \"subs\":\n",
    "        return x-y\n",
    "    if operation == \"multi\":\n",
    "        return x*y\n",
    "    if operation == \"div\":\n",
    "        return x/y\n",
    "    else:\n",
    "        print(\"Enter a valid operation\")\n",
    "        return None\n",
    "    \n",
    "print (\"Enter the operation you want to execute\")\n",
    "oper = input(\"The available operations are 'add', 'subs', 'multi', 'div' \" )\n",
    "x = int (input (\"Enter the first number\"))\n",
    "y = int (input (\"Enter the second number\"))\n",
    "\n",
    "print(\"Answer is \", calc(oper, x, y))"
   ]
  },
  {
   "cell_type": "code",
   "execution_count": 145,
   "id": "b4c46a81",
   "metadata": {},
   "outputs": [
    {
     "name": "stdout",
     "output_type": "stream",
     "text": [
      "Enter three numbers :15 9 100\n",
      "15 9 100\n",
      "The largest number is  100\n"
     ]
    }
   ],
   "source": [
    "num = input(\"Enter three numbers :\")\n",
    "\n",
    "num_list = num.split()\n",
    "\n",
    "a = int(num_list[0])\n",
    "b = int(num_list[1])\n",
    "c = int(num_list[2])\n",
    "\n",
    "print (a,b,c)\n",
    "\n",
    "if a>b: \n",
    "    if a>c:\n",
    "        print (\"The largest number is \", a)\n",
    "    else: \n",
    "        print (\"The largest number is \", c)\n",
    "else:\n",
    "    if b>c:\n",
    "        print (\"The largest number is \", b)\n",
    "    else: \n",
    "        print (\"The largest number is \", c)"
   ]
  },
  {
   "cell_type": "code",
   "execution_count": 152,
   "id": "31d535d4",
   "metadata": {},
   "outputs": [
    {
     "name": "stdout",
     "output_type": "stream",
     "text": [
      "Enter the number you want to check:6\n",
      "The number is a perfect number\n"
     ]
    }
   ],
   "source": [
    "num = int(input(\"Enter the number you want to check:\"))\n",
    "new_list =[]\n",
    "for i in range(1,num):\n",
    "    if num % i == 0:\n",
    "        new_list.append(i)\n",
    "if sum(new_list) == num:\n",
    "    print(\"The number is a perfect number\")\n",
    "else:\n",
    "    print(\"The number is not a perfect number\")\n",
    "    "
   ]
  },
  {
   "cell_type": "code",
   "execution_count": null,
   "id": "c8d03e65",
   "metadata": {},
   "outputs": [],
   "source": []
  },
  {
   "cell_type": "code",
   "execution_count": 154,
   "id": "ec2269f8",
   "metadata": {},
   "outputs": [
    {
     "data": {
      "text/plain": [
       "[15, 20, 17, 18]"
      ]
     },
     "execution_count": 154,
     "metadata": {},
     "output_type": "execute_result"
    }
   ],
   "source": [
    "list1 = [5, 8, 9, 12]\n",
    "list2 = [10, 12, 8, 6]\n",
    "\n",
    "# write code here \n",
    "list(map(lambda x,y : x+y,list1,list2))"
   ]
  },
  {
   "cell_type": "code",
   "execution_count": null,
   "id": "ffdb1421",
   "metadata": {},
   "outputs": [],
   "source": []
  },
  {
   "cell_type": "code",
   "execution_count": 158,
   "id": "cfb34bc5",
   "metadata": {},
   "outputs": [
    {
     "name": "stdout",
     "output_type": "stream",
     "text": [
      "Enter a Natural Number:5\n",
      "120\n"
     ]
    }
   ],
   "source": [
    "from functools import reduce\n",
    "num = int(input(\"Enter a Natural Number:\"))\n",
    "\n",
    "x = reduce(lambda i,y: i * y, range(1,num+1))\n",
    "print(x)"
   ]
  },
  {
   "cell_type": "code",
   "execution_count": null,
   "id": "9c291472",
   "metadata": {},
   "outputs": [],
   "source": []
  },
  {
   "cell_type": "markdown",
   "id": "5d2f207d",
   "metadata": {},
   "source": [
    " "
   ]
  },
  {
   "cell_type": "markdown",
   "id": "491b6866",
   "metadata": {},
   "source": [
    "Using the function Map, count the number of words that start with ‘S’ in input_list.\n",
    "\n",
    "\n",
    "\n",
    "Sample Input:\n",
    "\n",
    "['Santa Cruz','Santa fe','Mumbai','Delhi']"
   ]
  },
  {
   "cell_type": "code",
   "execution_count": null,
   "id": "8a6de389",
   "metadata": {},
   "outputs": [],
   "source": [
    "import ast,sys\n",
    "input_str = sys.stdin.read()\n",
    "input_list = ast.literal_eval(input_str)\n",
    "\n",
    "count = sum(list(map(lambda x:x[0] == \"S\",input_list)))\n",
    "\n",
    "print(count)"
   ]
  },
  {
   "cell_type": "code",
   "execution_count": null,
   "id": "00bebc45",
   "metadata": {},
   "outputs": [],
   "source": []
  },
  {
   "cell_type": "markdown",
   "id": "1e7f2b5b",
   "metadata": {},
   "source": [
    "Map Function\n",
    "Description\n",
    "Create a list ‘name’ consisting of the combination of the first name and the second name from list 1 and 2 respectively. \n",
    "\n",
    "For e.g. if the input list is:\n",
    "[ ['Ankur', 'Avik', 'Kiran', 'Nitin'], ['Narang', 'Sarkar', 'R', 'Sareen']]\n",
    "\n",
    "the output list should be the list:\n",
    "['Ankur Narang', 'Avik Sarkar', 'Kiran R', 'Nitin Sareen']\n",
    "\n",
    "Note: Add a space between first name and last name."
   ]
  },
  {
   "cell_type": "code",
   "execution_count": null,
   "id": "d818244a",
   "metadata": {},
   "outputs": [],
   "source": [
    "import ast,sys\n",
    "input_str = sys.stdin.read()\n",
    "input_list = ast.literal_eval(input_str)\n",
    "first_name = input_list[0]\n",
    "last_name = input_list[1]\n",
    "\n",
    "name = list(map(lambda x , y : x +\" \" + y,first_name,last_name))\n",
    "\n",
    "print(name)"
   ]
  },
  {
   "cell_type": "code",
   "execution_count": null,
   "id": "0a13de49",
   "metadata": {},
   "outputs": [],
   "source": []
  },
  {
   "cell_type": "markdown",
   "id": "51c4dd61",
   "metadata": {},
   "source": [
    "Filter Function\n",
    "Description\n",
    "Extract a list of numbers that are multiples of 5 from a list of integers named input_list.\n",
    "\n",
    "\n",
    "\n",
    "Sample Input:\n",
    "\n",
    "[1, 2, 3, 4, 5, 6, 7, 8, 9, 10, 11, 12, 13, 14, 15, 16, 17, 18, 19, 20, 21, 22, 23, 24, 25, 26, 27, 28, 29, 30, 31, 32, 33, 34, 35, 36, 37, 38, 39, 40, 41, 42, 43, 44, 45, 46, 47, 48, 49, 50]\n",
    "\n",
    "\n",
    "\n",
    "Sample Output:\n",
    "\n",
    "[5, 10, 15, 20, 25, 30, 35, 40, 45, 50]\n",
    "\n",
    "\n",
    "\n",
    "Note: Use the filter() function."
   ]
  },
  {
   "cell_type": "code",
   "execution_count": null,
   "id": "72e5d910",
   "metadata": {},
   "outputs": [],
   "source": [
    "import ast,sys\n",
    "input_str = sys.stdin.read()\n",
    "input_list = ast.literal_eval(input_str)\n",
    "\n",
    "list_answer = list(filter(lambda x : x%5==0,input_list))\n",
    "\n",
    "print(list_answer)"
   ]
  },
  {
   "cell_type": "code",
   "execution_count": null,
   "id": "95b73483",
   "metadata": {},
   "outputs": [],
   "source": []
  },
  {
   "cell_type": "markdown",
   "id": "9c5897af",
   "metadata": {},
   "source": [
    "Filter Function\n",
    "Description\n",
    "You are given a list of strings such as input_list = ['hdjk', 'salsap', 'sherpa'].\n",
    "\n",
    "\n",
    "\n",
    "Extract a list of names that start with an ‘s’ and end with a ‘p’ (both 's' and 'p' are lowercase) in input_list.\n",
    "\n",
    "\n",
    "\n",
    "Sample Input:\n",
    "\n",
    "['soap','sharp','shy','silent','ship','summer','sheep']\n",
    "\n",
    "\n",
    "\n",
    "Sample Output:\n",
    "\n",
    "['soap', 'sharp', 'ship', 'sheep']\n",
    "\n",
    "\n",
    "\n",
    "Note: Use the filter() function."
   ]
  },
  {
   "cell_type": "code",
   "execution_count": null,
   "id": "a0063f13",
   "metadata": {},
   "outputs": [],
   "source": [
    "import ast,sys\n",
    "input_str = sys.stdin.read()\n",
    "input_list = ast.literal_eval(input_str)\n",
    "\n",
    "sp = list(filter(lambda x : x[0]=='s' and x[-1] == 'p',input_list))\n",
    "\n",
    "print(sp)"
   ]
  },
  {
   "cell_type": "code",
   "execution_count": null,
   "id": "c0933c6b",
   "metadata": {},
   "outputs": [],
   "source": []
  },
  {
   "cell_type": "markdown",
   "id": "946ae927",
   "metadata": {},
   "source": [
    "Reduce Function\n",
    "Description\n",
    "Using the Reduce function, concatenate a list of words in input_list, and print the output as a string.\n",
    "\n",
    "If input_list = ['I','Love','Python'], the output should be the string 'I Love Python'.\n",
    "\n",
    "\n",
    "\n",
    "Sample Input:\n",
    "\n",
    "['All','you','have','to','fear','is','fear','itself']\n",
    "\n",
    "\n",
    "\n",
    "Sample Output:\n",
    "\n",
    "﻿All you have to fear is fear itself"
   ]
  },
  {
   "cell_type": "code",
   "execution_count": null,
   "id": "da387e55",
   "metadata": {},
   "outputs": [],
   "source": [
    "import ast,sys\n",
    "input_str = sys.stdin.read()\n",
    "input_list = ast.literal_eval(input_str)\n",
    "\n",
    "from functools import reduce\n",
    "\n",
    "ans = reduce(lambda x,y : x + \" \" + y,input_list)\n",
    "\n",
    "print(ans)"
   ]
  },
  {
   "cell_type": "code",
   "execution_count": null,
   "id": "678af7b4",
   "metadata": {},
   "outputs": [],
   "source": []
  },
  {
   "cell_type": "markdown",
   "id": "b0723386",
   "metadata": {},
   "source": [
    "Reduce Function\n",
    "Description\n",
    "You are given a list of numbers such as input_list = [31, 63, 76, 89]. Find and print the largest number in input_list using the reduce() function.\n",
    "\n",
    "\n",
    "\n",
    "Sample Input:\n",
    "\n",
    "[65,76,87,23,12,90,99]\n",
    "\n",
    "\n",
    "\n",
    "Sample Output:\n",
    "\n",
    "﻿99"
   ]
  },
  {
   "cell_type": "code",
   "execution_count": null,
   "id": "9dc10ba7",
   "metadata": {},
   "outputs": [],
   "source": [
    "import ast,sys\n",
    "input_str = sys.stdin.read()\n",
    "input_list = ast.literal_eval(input_str)\n",
    "from functools import reduce\n",
    "\n",
    "answer = reduce(lambda x,y : x if x > y else y , input_list)\n",
    "\n",
    "print(answer)"
   ]
  },
  {
   "cell_type": "code",
   "execution_count": null,
   "id": "776df15b",
   "metadata": {},
   "outputs": [],
   "source": []
  },
  {
   "cell_type": "markdown",
   "id": "94baf6f3",
   "metadata": {},
   "source": [
    "# Control Structures and Functions MCQ"
   ]
  },
  {
   "cell_type": "code",
   "execution_count": 168,
   "id": "ae869249",
   "metadata": {},
   "outputs": [
    {
     "name": "stdout",
     "output_type": "stream",
     "text": [
      "[('I', 1), ('LOVE', 4), ('PYTHON', 6)]\n"
     ]
    }
   ],
   "source": [
    "input_string = \"I love Python\"\n",
    "k = [(i.upper(), len(i)) for i in input_string.split(' ')]\n",
    "print(k)"
   ]
  },
  {
   "cell_type": "code",
   "execution_count": 169,
   "id": "dc3bdb36",
   "metadata": {},
   "outputs": [
    {
     "name": "stdout",
     "output_type": "stream",
     "text": [
      "[0, 1, 4, 9, 16]\n"
     ]
    }
   ],
   "source": [
    "var = [i**2 for i in range(5)]\n",
    "print(var)"
   ]
  },
  {
   "cell_type": "code",
   "execution_count": 170,
   "id": "ce8c7dda",
   "metadata": {},
   "outputs": [
    {
     "data": {
      "text/plain": [
       "[5, 6, 7, 10, 6, 7, 8, 11, 7, 8, 9, 12, 11, 12, 13, 16]"
      ]
     },
     "execution_count": 170,
     "metadata": {},
     "output_type": "execute_result"
    }
   ],
   "source": [
    "l1=[1,2,3,7]\n",
    "l2=[4,5,6,9]\n",
    "[x+y for x in l1 for y in l2]"
   ]
  },
  {
   "cell_type": "code",
   "execution_count": 171,
   "id": "c315189d",
   "metadata": {},
   "outputs": [
    {
     "name": "stdout",
     "output_type": "stream",
     "text": [
      "None\n"
     ]
    }
   ],
   "source": [
    "def function(n):\n",
    "  n=n+1\n",
    " \n",
    "n=2\n",
    "print(function(2))"
   ]
  },
  {
   "cell_type": "code",
   "execution_count": 172,
   "id": "86fa869d",
   "metadata": {},
   "outputs": [
    {
     "name": "stdout",
     "output_type": "stream",
     "text": [
      "10\n",
      "10\n"
     ]
    }
   ],
   "source": [
    "x=10\n",
    "def func(x):\n",
    "   x=20\n",
    "print(x)\n",
    " \n",
    "print(x)"
   ]
  },
  {
   "cell_type": "code",
   "execution_count": 173,
   "id": "1636e1ba",
   "metadata": {},
   "outputs": [
    {
     "name": "stdout",
     "output_type": "stream",
     "text": [
      "pythonpythonpythonpython\n",
      "programprogramprogram\n"
     ]
    }
   ],
   "source": [
    "def samplefunc(msg,i=3):\n",
    "  print(msg*i)\n",
    " \n",
    "samplefunc('python',4)\n",
    "samplefunc('program')"
   ]
  },
  {
   "cell_type": "code",
   "execution_count": 174,
   "id": "f16aedb5",
   "metadata": {},
   "outputs": [
    {
     "name": "stdout",
     "output_type": "stream",
     "text": [
      "0\n"
     ]
    }
   ],
   "source": [
    "f=lambda x:bool(x%2)\n",
    "print(f(100)* f(101))"
   ]
  },
  {
   "cell_type": "code",
   "execution_count": 175,
   "id": "e47cacb3",
   "metadata": {},
   "outputs": [
    {
     "name": "stdout",
     "output_type": "stream",
     "text": [
      "[0, -1, -2, 2, 2]\n"
     ]
    }
   ],
   "source": [
    "l=(1, -2, -3, 4, 5)\n",
    "def f1(x):\n",
    "    return x//2\n",
    "m1=map(f1, l)\n",
    "print(list(m1))"
   ]
  },
  {
   "cell_type": "code",
   "execution_count": 176,
   "id": "62c77216",
   "metadata": {},
   "outputs": [
    {
     "name": "stdout",
     "output_type": "stream",
     "text": [
      "0\n"
     ]
    }
   ],
   "source": [
    "from functools import reduce\n",
    "numbers = [-1, 2, -5, 3, 8,-2, 1,-4,-2]\n",
    "sum = reduce(lambda x, y: x + y, numbers)\n",
    "print(sum)"
   ]
  },
  {
   "cell_type": "code",
   "execution_count": 177,
   "id": "ceb4c348",
   "metadata": {},
   "outputs": [
    {
     "name": "stdout",
     "output_type": "stream",
     "text": [
      "<map object at 0x000001D197EC18D0>\n"
     ]
    }
   ],
   "source": [
    "sample=[-4,2,5,-3]\n",
    "ans=map(lambda x: x*2, sample)\n",
    "print(ans)"
   ]
  },
  {
   "cell_type": "code",
   "execution_count": 178,
   "id": "c9c12780",
   "metadata": {},
   "outputs": [
    {
     "ename": "TypeError",
     "evalue": "'int' object is not iterable",
     "output_type": "error",
     "traceback": [
      "\u001b[1;31m---------------------------------------------------------------------------\u001b[0m",
      "\u001b[1;31mTypeError\u001b[0m                                 Traceback (most recent call last)",
      "Cell \u001b[1;32mIn[178], line 2\u001b[0m\n\u001b[0;32m      1\u001b[0m \u001b[38;5;28;01mfrom\u001b[39;00m \u001b[38;5;21;01mfunctools\u001b[39;00m \u001b[38;5;28;01mimport\u001b[39;00m reduce\n\u001b[1;32m----> 2\u001b[0m \u001b[38;5;28mprint\u001b[39m(\u001b[38;5;28mlist\u001b[39m(reduce(\u001b[38;5;28;01mlambda\u001b[39;00m x,y:x\u001b[38;5;241m+\u001b[39my,\u001b[38;5;28mrange\u001b[39m(\u001b[38;5;241m5\u001b[39m,\u001b[38;5;241m15\u001b[39m))))\n",
      "\u001b[1;31mTypeError\u001b[0m: 'int' object is not iterable"
     ]
    }
   ],
   "source": [
    "from functools import reduce\n",
    "print(list(reduce(lambda x,y:x+y,range(5,15))))"
   ]
  },
  {
   "cell_type": "code",
   "execution_count": 179,
   "id": "6cf201e7",
   "metadata": {},
   "outputs": [
    {
     "name": "stdout",
     "output_type": "stream",
     "text": [
      "1\n"
     ]
    }
   ],
   "source": [
    "import functools\n",
    "lis=[1, 2, 3, 4, 5]\n",
    "m=functools.reduce(lambda x, y:x if x<y else y, lis)\n",
    "print(m)"
   ]
  },
  {
   "cell_type": "code",
   "execution_count": 180,
   "id": "33b974da",
   "metadata": {},
   "outputs": [
    {
     "name": "stdout",
     "output_type": "stream",
     "text": [
      "1\n"
     ]
    }
   ],
   "source": [
    "lis=[1, 2, 3, 4, 5]\n",
    "c=lis[0]\n",
    "for i in range(len(lis)-1):\n",
    "    if lis[i]<c:\n",
    "       c=lis[i]\n",
    "print(c)"
   ]
  },
  {
   "cell_type": "code",
   "execution_count": 181,
   "id": "7aa15605",
   "metadata": {},
   "outputs": [
    {
     "name": "stdout",
     "output_type": "stream",
     "text": [
      "['dx', 'ix', 'ax', 'sx']\n"
     ]
    }
   ],
   "source": [
    "letters = ('d','i','a','s')\n",
    "ans = list(map(lambda word: f\"{word}x\", letters))\n",
    "print(ans)"
   ]
  },
  {
   "cell_type": "code",
   "execution_count": 182,
   "id": "059fab07",
   "metadata": {},
   "outputs": [
    {
     "name": "stdout",
     "output_type": "stream",
     "text": [
      "[12, 20, 28]\n"
     ]
    }
   ],
   "source": [
    "def sf(a):\n",
    "    return a%4==0 and a%8!=0\n",
    "m=filter(sf, range(10, 31))\n",
    "print(list(m))"
   ]
  },
  {
   "cell_type": "code",
   "execution_count": null,
   "id": "59040e76",
   "metadata": {},
   "outputs": [],
   "source": []
  },
  {
   "cell_type": "markdown",
   "id": "1e25055f",
   "metadata": {},
   "source": [
    "# Practise Questions - I"
   ]
  },
  {
   "cell_type": "markdown",
   "id": "f924d19b",
   "metadata": {},
   "source": [
    "Even numbers in a list\n",
    "Description\n",
    "Given a list of integers, write a python code to find all the even numbers present in the list.\n",
    "\n",
    "\n",
    "\n",
    "Note: Try using lambda and filter functions to solve the problem.\n",
    "\n",
    "\n",
    "\n",
    "Input: A list of integers\n",
    "\n",
    "Output: A list of integers\n",
    "\n",
    "\n",
    "\n",
    "----------------------------------------------------------------------\n",
    "\n",
    "\n",
    "\n",
    "Sample input: [5, 7, 22, 97, 54, 62, 77, 23, 73, 61] \n",
    "\n",
    "Sample output: [22, 54, 62]\n",
    "\n",
    "\n",
    "\n",
    "----------------------------------------------------------------------\n",
    "\n",
    "\n",
    "\n",
    "Sample input: [500, 789, 2112, 9097, 5894, 9062, 8977, 1223, 773, 600]\n",
    "\n",
    "Sample output: [500, 2112, 5894, 9062, 600]"
   ]
  },
  {
   "cell_type": "code",
   "execution_count": null,
   "id": "3741605d",
   "metadata": {},
   "outputs": [],
   "source": [
    "import ast,sys\n",
    "input_str = sys.stdin.read()\n",
    "input_list = ast.literal_eval(input_str)\n",
    "\n",
    "ans = list(filter(lambda x : x % 2 == 0,input_list))\n",
    "print(ans)"
   ]
  },
  {
   "cell_type": "code",
   "execution_count": null,
   "id": "bf442f82",
   "metadata": {},
   "outputs": [],
   "source": []
  },
  {
   "cell_type": "markdown",
   "id": "a24cedd3",
   "metadata": {},
   "source": [
    "Triple the list elements\n",
    "Description\n",
    "Given a list of integers, write a python code to triple all the values in the list.\n",
    "\n",
    "\n",
    "\n",
    "Note: Try using lambda and map functions to solve the problem.\n",
    "\n",
    "\n",
    "\n",
    "Input: A list of integers\n",
    "\n",
    "Output: A list of integers\n",
    "\n",
    "\n",
    "\n",
    "----------------------------------------------------------------------\n",
    "\n",
    "\n",
    "\n",
    "Sample input: [5, 7, 22, 97, 54, 62, 77, 23, 73, 61]\n",
    "\n",
    "Output: [15, 21, 66, 291, 162, 186, 231, 69, 219, 183]\n",
    "\n",
    "\n",
    "\n",
    "----------------------------------------------------------------------\n",
    "\n",
    "\n",
    "\n",
    "Sample input: [15, 71, 2, 9, 5, 6, 11, 3, 7, 6]\n",
    "\n",
    "Output: [45, 213, 6, 27, 15, 18, 33, 9, 21, 18]\n",
    "\n",
    "\n",
    "\n",
    "----------------------------------------------------------------------"
   ]
  },
  {
   "cell_type": "code",
   "execution_count": null,
   "id": "0153eccf",
   "metadata": {},
   "outputs": [],
   "source": [
    "import ast,sys\n",
    "input_str = sys.stdin.read()\n",
    "input_list = ast.literal_eval(input_str)\n",
    "\n",
    "ans = list(map(lambda x : x*3,input_list))\n",
    "print(ans)"
   ]
  },
  {
   "cell_type": "code",
   "execution_count": null,
   "id": "72726a17",
   "metadata": {},
   "outputs": [],
   "source": []
  },
  {
   "cell_type": "markdown",
   "id": "12ba5823",
   "metadata": {},
   "source": [
    "Encrypt elements in a list\n",
    "Description\n",
    "A company stores the names of their employees in a list. They want to encrypt the names so that no one can read them and the data stays safe. One of the steps in encrypting is to reverse each name in the list and convert them to uppercase and your task is to write a Python code to execute the same.\n",
    "\n",
    "\n",
    "\n",
    "Note: Use lambda and map functions.\n",
    "\n",
    "\n",
    "\n",
    "Input: A list of names\n",
    "\n",
    "Output: A list of encrypted names\n",
    "\n",
    "\n",
    "\n",
    "----------------------------------------------------------------------\n",
    "\n",
    "\n",
    "\n",
    "Sample input: ['Ronaldo', 'Cristiano', 'Rakesh', 'Ronak']\n",
    "\n",
    "Sample output: ['ODLANOR', 'ONAITSIRC', 'HSEKAR', 'KANOR']\n",
    "\n",
    "\n",
    "\n",
    "----------------------------------------------------------------------\n",
    "\n",
    "\n",
    "\n",
    "Sample input: ['Abhay', 'Aravind', 'Desilva', 'Darpan']\n",
    "\n",
    "Sample output: ['YAHBA', 'DNIVARA', 'AVLISED', 'NAPRAD']\n",
    "\n",
    "\n",
    "\n",
    "----------------------------------------------------------------------"
   ]
  },
  {
   "cell_type": "code",
   "execution_count": null,
   "id": "1fcdfe9b",
   "metadata": {},
   "outputs": [],
   "source": [
    "import ast,sys\n",
    "input_str = sys.stdin.read()\n",
    "input_list = ast.literal_eval(input_str)\n",
    "ans = list(map(lambda x : x[::-1].upper(),input_list))\n",
    "print(ans)"
   ]
  },
  {
   "cell_type": "code",
   "execution_count": null,
   "id": "2936b02e",
   "metadata": {},
   "outputs": [],
   "source": []
  },
  {
   "cell_type": "markdown",
   "id": "4a62db54",
   "metadata": {},
   "source": [
    "# Practise Questions - II"
   ]
  },
  {
   "cell_type": "markdown",
   "id": "2d436e9c",
   "metadata": {},
   "source": [
    " "
   ]
  },
  {
   "cell_type": "markdown",
   "id": "f55b6a9b",
   "metadata": {},
   "source": [
    "Sorting a dictionary\n",
    "Description\n",
    "Given is a list consisting of dictionary elements. Each dictionary contains the name of a student as a first item and his/her corresponding rank as the second item. Your task is to write a Python program to print the list (dictionary elements) in a sorted ascending order according to student ranks. In case the rank of two or more students are the same, then sort them in ascending order (alphabetically) according to their names.\n",
    "\n",
    "\n",
    "\n",
    "Note: Use the sorted() function to solve the question.\n",
    "\n",
    "\n",
    "\n",
    "Input: Dictionary\n",
    "\n",
    "Output: Dictionary\n",
    "\n",
    "\n",
    "\n",
    "----------------------------------------------------------------------\n",
    "\n",
    "\n",
    "\n",
    "Sample input: [{ \"name\" : \"Arpit\", \"rank\" : 20}, { \"name\" : \"Manjeet\", \"rank\" : 20 },{ \"name\" : \"Aravind\" , \"rank\" : 19 }]\n",
    "\n",
    "Sample output: [{ \"name\" : \"Aravind\" , \"rank\" : 19 }, { \"name\" : \"Arpit\", \"rank\" : 20}, { \"name\" : \"Manjeet\", \"rank\" : 20 },\n",
    "\n",
    "]\n",
    "\n",
    "\n",
    "\n",
    "----------------------------------------------------------------------\n",
    "\n",
    "\n",
    "\n",
    "Sample input: [{ \"name\" : \"Mohan\", \"rank\" : 2}, { \"name\" : \"Mandeep\", \"rank\" : 2 },\n",
    "\n",
    "{ \"name\" : \"Merut\" , \"rank\" : 2 }]\n",
    "\n",
    "\n",
    "\n",
    "Sample output: [{'name': 'Mandeep', 'rank': 2}, {'name': 'Merut', 'rank': 2}, {'name': 'Mohan', 'rank': 2}]"
   ]
  },
  {
   "cell_type": "code",
   "execution_count": null,
   "id": "2e2866be",
   "metadata": {},
   "outputs": [],
   "source": [
    "import ast,sys\n",
    "input_str = sys.stdin.read()\n",
    "input_list = ast.literal_eval(input_str)\n",
    "ans = sorted(input_list,key = (lambda x:(x[\"rank\"],x[\"name\"])))\n",
    "print(ans)"
   ]
  },
  {
   "cell_type": "code",
   "execution_count": null,
   "id": "57def20b",
   "metadata": {},
   "outputs": [],
   "source": []
  },
  {
   "cell_type": "markdown",
   "id": "0bc184b2",
   "metadata": {},
   "source": [
    "Intersection of lists\n",
    "Description\n",
    "In ‘ABC’ university, company ‘XYZ’ conducted three rounds of interviews to recruit students. Those students who passed all the rounds were selected. The company released the results for each round in a separate list. Your task is to write a Python code to display the list of the students who passed all the three rounds.\n",
    "\n",
    "\n",
    "\n",
    "Note: a. Name of the person can be given in uppercase or lowercase.\n",
    "\n",
    "\n",
    "\n",
    " b. Print the names in lowercase in the output.\n",
    "\n",
    "\n",
    "\n",
    "Input: List\n",
    "\n",
    "List\n",
    "\n",
    "List\n",
    "\n",
    "\n",
    "\n",
    "Output: List\n",
    "\n",
    "\n",
    "\n",
    "----------------------------------------------------------------------\n",
    "\n",
    "\n",
    "\n",
    "Sample input: ['Arkam', 'Bairstow', 'Cairy', 'Darpan'] \n",
    "\n",
    " ['ARKAM', 'Bairstow', 'Cairy', 'Darpan', 'Dhoni', 'Sachin']\n",
    "\n",
    " ['arkam', 'bairstow', 'Cheteshwar', 'Dinesh']\n",
    "\n",
    "        \n",
    "\n",
    "Sample output: ['arkam', 'bairstow']\n",
    "\n",
    "\n",
    "\n",
    "----------------------------------------------------------------------\n",
    "\n",
    "\n",
    "\n",
    "Sample input: ['Pranay', 'Aditya', 'Deepesh', 'Sandesh']\n",
    "\n",
    "['Pranoy', 'Surya', 'Cairy', 'Vignesh', 'ADITYA', 'SANDesh']\n",
    "\n",
    "['Vardhan', 'Shailesh', 'aditya', 'sandesh']\n",
    "\n",
    "        \n",
    "\n",
    "Sample output: ['aditya', 'sandesh']\n",
    "\n",
    "\n",
    "\n",
    "----------------------------------------------------------------------\n",
    "\n",
    "Sample input: ['Siddharth', 'Gaurav', 'Prasad', 'Kuldeep', 'karna']\n",
    "\n",
    "['siddharth', 'Gaurav', 'Prasad', 'Kuldeep', 'karna']\n",
    "\n",
    "['Siddharth', 'gaurav', 'PRASAD', 'KuLDEEp', 'KARNA']\n",
    "\n",
    "\n",
    "\n",
    "Sample output: ['siddharth', 'gaurav', 'prasad', 'kuldeep', 'karna']"
   ]
  },
  {
   "cell_type": "code",
   "execution_count": null,
   "id": "825cda8d",
   "metadata": {},
   "outputs": [],
   "source": []
  },
  {
   "cell_type": "code",
   "execution_count": null,
   "id": "88b875fb",
   "metadata": {},
   "outputs": [],
   "source": [
    "import ast\n",
    "list1 = ast.literal_eval(input())\n",
    "list2 = ast.literal_eval(input())\n",
    "list3 = ast.literal_eval(input())\n",
    "\n",
    "round1 = list(map(lambda x: x.lower(),list1))\n",
    "round2 = list(map(lambda x: x.lower(),list2))\n",
    "round3 = list(map(lambda x: x.lower(),list3))\n",
    "\n",
    "ans  = [i.lower() for i in round1 if (i in round2) and (i in round3)]\n",
    "print(ans)"
   ]
  },
  {
   "cell_type": "code",
   "execution_count": null,
   "id": "a982b806",
   "metadata": {},
   "outputs": [],
   "source": []
  },
  {
   "cell_type": "markdown",
   "id": "1abf845c",
   "metadata": {},
   "source": [
    "Sorting a list of dictionary elements\n",
    "Description\n",
    "A teacher decided to divide the class into groups to conduct fun activities. Each group had one or more members in it. The data is provided in the form of a list with dictionary elements. The key and value in each dictionary correspond to the student’s roll number and his/her name.\n",
    "\n",
    "\n",
    "\n",
    "In case the length of two or more dictionaries are the same, then the dictionary that occurs first in the input list will also appear first among the other dictionaries of the same length.\n",
    "\n",
    "\n",
    "\n",
    "Your task is to write a Python program to sort the list in descending order with respect to the group strength.﻿\n",
    "\n",
    "\n",
    "\n",
    "Note: Use lambda and sorted functions to solve the question.\n",
    "\n",
    "\n",
    "\n",
    "Input: List\n",
    "\n",
    "Output: List\n",
    "\n",
    "\n",
    "\n",
    "----------------------------------------------------------------------\n",
    "\n",
    "\n",
    "\n",
    "Sample input: [{4: 'Viking', 9: 'Happy', 10: 'Tony', 2: 'Rogers'}, {12: 'Vikram', 19: 'Vipan'}, {3: 'Kohli'}, {1: 'Ronaldo', 29: 'Harish', 7: 'Ganesh'}]\n",
    "\n",
    "\n",
    "\n",
    "Sample output: [{4: 'Viking', 9: 'Happy', 10: 'Tony', 2: 'Rogers'}, {1: 'Ronaldo', 29: 'Harish', 7: 'Ganesh'}, {12: 'Vikram', 19: 'Vipan'}, {3: 'Kohli'}]\n",
    "\n",
    "\n",
    "\n",
    "----------------------------------------------------------------------\n",
    "\n",
    "\n",
    "\n",
    "Sample input: [{14: 'Darpan', 19: 'Harry', 10: 'Julia'}, {12: 'Ethan', 19: 'Rogers'}, {3: 'Kohli', 1: 'Neymar', 29: 'Sachin', 7: 'Ramesh'}]\n",
    "\n",
    "\n",
    "\n",
    "Sample output: [{3: 'Kohli', 1: 'Neymar', 29: 'Sachin', 7: 'Ramesh'}, {14: 'Darpan', 19: 'Harry', 10: 'Julia'}, {12: 'Ethan', 19: 'Rogers'}]"
   ]
  },
  {
   "cell_type": "code",
   "execution_count": null,
   "id": "0aca0cdf",
   "metadata": {},
   "outputs": [],
   "source": [
    "import ast\n",
    "input_list = ast.literal_eval(input())\n",
    "sorted_list = sorted(input_list, key=lambda x:len(x),reverse=True)\n",
    "print(sorted_list)"
   ]
  },
  {
   "cell_type": "markdown",
   "id": "66cdc3ca",
   "metadata": {},
   "source": [
    " "
   ]
  },
  {
   "cell_type": "markdown",
   "id": "31ebe286",
   "metadata": {},
   "source": [
    " "
   ]
  },
  {
   "cell_type": "markdown",
   "id": "6709c988",
   "metadata": {},
   "source": [
    " "
   ]
  },
  {
   "cell_type": "markdown",
   "id": "93695da5",
   "metadata": {},
   "source": [
    " END "
   ]
  }
 ],
 "metadata": {
  "kernelspec": {
   "display_name": "Python 3 (ipykernel)",
   "language": "python",
   "name": "python3"
  },
  "language_info": {
   "codemirror_mode": {
    "name": "ipython",
    "version": 3
   },
   "file_extension": ".py",
   "mimetype": "text/x-python",
   "name": "python",
   "nbconvert_exporter": "python",
   "pygments_lexer": "ipython3",
   "version": "3.11.5"
  }
 },
 "nbformat": 4,
 "nbformat_minor": 5
}
