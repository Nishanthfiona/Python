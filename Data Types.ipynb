{
 "cells": [
  {
   "cell_type": "markdown",
   "id": "23f5dd7b",
   "metadata": {},
   "source": [
    "# **Introduction To Python**"
   ]
  },
  {
   "cell_type": "markdown",
   "id": "ded3cc88",
   "metadata": {},
   "source": [
    "This will cover basic of python, I've started learning in online modules and from IITB - Nishanth fiona"
   ]
  },
  {
   "cell_type": "markdown",
   "id": "2dd9f413",
   "metadata": {},
   "source": [
    "Datatypes we have in python are below:"
   ]
  },
  {
   "cell_type": "code",
   "execution_count": 11,
   "id": "cdc54100",
   "metadata": {},
   "outputs": [
    {
     "data": {
      "text/plain": [
       "str"
      ]
     },
     "execution_count": 11,
     "metadata": {},
     "output_type": "execute_result"
    }
   ],
   "source": [
    "type(\"snr\")"
   ]
  },
  {
   "cell_type": "code",
   "execution_count": 12,
   "id": "5512563d",
   "metadata": {},
   "outputs": [
    {
     "ename": "NameError",
     "evalue": "name 'snf' is not defined",
     "output_type": "error",
     "traceback": [
      "\u001b[1;31m---------------------------------------------------------------------------\u001b[0m",
      "\u001b[1;31mNameError\u001b[0m                                 Traceback (most recent call last)",
      "Cell \u001b[1;32mIn[12], line 1\u001b[0m\n\u001b[1;32m----> 1\u001b[0m \u001b[38;5;28mtype\u001b[39m(snf)\n",
      "\u001b[1;31mNameError\u001b[0m: name 'snf' is not defined"
     ]
    }
   ],
   "source": [
    "type(snf)"
   ]
  },
  {
   "cell_type": "code",
   "execution_count": 13,
   "id": "6f13b357",
   "metadata": {},
   "outputs": [
    {
     "data": {
      "text/plain": [
       "int"
      ]
     },
     "execution_count": 13,
     "metadata": {},
     "output_type": "execute_result"
    }
   ],
   "source": [
    "type(165445)"
   ]
  },
  {
   "cell_type": "code",
   "execution_count": 14,
   "id": "4deca1bd",
   "metadata": {},
   "outputs": [
    {
     "data": {
      "text/plain": [
       "bool"
      ]
     },
     "execution_count": 14,
     "metadata": {},
     "output_type": "execute_result"
    }
   ],
   "source": [
    "type(False)"
   ]
  },
  {
   "cell_type": "code",
   "execution_count": 15,
   "id": "d9ced35f",
   "metadata": {},
   "outputs": [
    {
     "data": {
      "text/plain": [
       "float"
      ]
     },
     "execution_count": 15,
     "metadata": {},
     "output_type": "execute_result"
    }
   ],
   "source": [
    "type(155.64)"
   ]
  },
  {
   "cell_type": "markdown",
   "id": "e8121959",
   "metadata": {},
   "source": [
    "Common types are String,Float, Integers,Boolean <br>\n",
    "there are other type of data types exists in python as well."
   ]
  },
  {
   "cell_type": "markdown",
   "id": "0771b88d",
   "metadata": {},
   "source": [
    " "
   ]
  },
  {
   "cell_type": "markdown",
   "id": "46f36cc8",
   "metadata": {},
   "source": [
    " "
   ]
  },
  {
   "cell_type": "markdown",
   "id": "cac29f17",
   "metadata": {},
   "source": [
    " "
   ]
  },
  {
   "cell_type": "markdown",
   "id": "393bce02",
   "metadata": {},
   "source": [
    "Some python behaviours :"
   ]
  },
  {
   "cell_type": "code",
   "execution_count": 2,
   "id": "60e0a403",
   "metadata": {},
   "outputs": [
    {
     "name": "stdout",
     "output_type": "stream",
     "text": [
      "Hello World\n"
     ]
    }
   ],
   "source": [
    "print(\"Hello World\")"
   ]
  },
  {
   "cell_type": "code",
   "execution_count": 3,
   "id": "ffbd35f3",
   "metadata": {},
   "outputs": [
    {
     "name": "stdout",
     "output_type": "stream",
     "text": [
      "Enter your Name : Fiona\n"
     ]
    }
   ],
   "source": [
    "name = input(\"Enter your Name : \")"
   ]
  },
  {
   "cell_type": "code",
   "execution_count": 4,
   "id": "40f0f628",
   "metadata": {},
   "outputs": [
    {
     "data": {
      "text/plain": [
       "'Fiona'"
      ]
     },
     "execution_count": 4,
     "metadata": {},
     "output_type": "execute_result"
    }
   ],
   "source": [
    "name "
   ]
  },
  {
   "cell_type": "code",
   "execution_count": 6,
   "id": "8c8f3f04",
   "metadata": {},
   "outputs": [
    {
     "name": "stdout",
     "output_type": "stream",
     "text": [
      "welcome Fiona\n"
     ]
    }
   ],
   "source": [
    "print(\"welcome\",name )"
   ]
  },
  {
   "cell_type": "code",
   "execution_count": 8,
   "id": "40d4615a",
   "metadata": {},
   "outputs": [
    {
     "name": "stdout",
     "output_type": "stream",
     "text": [
      "fionafionafionafionafiona\n"
     ]
    }
   ],
   "source": [
    "print(\"fiona\"*5)"
   ]
  },
  {
   "cell_type": "code",
   "execution_count": 10,
   "id": "9aeb555c",
   "metadata": {},
   "outputs": [
    {
     "name": "stdout",
     "output_type": "stream",
     "text": [
      "enter your age :25\n",
      "you are 300 month old\n"
     ]
    }
   ],
   "source": [
    "age = int(input(\"enter your age :\"))\n",
    "print(\"you are\",age*12,\"month old\")"
   ]
  },
  {
   "cell_type": "markdown",
   "id": "1709ce35",
   "metadata": {},
   "source": [
    "##### For Other Datatypes Refer: https://www.w3schools.com/python/python_datatypes.asp"
   ]
  }
 ],
 "metadata": {
  "kernelspec": {
   "display_name": "Python 3 (ipykernel)",
   "language": "python",
   "name": "python3"
  },
  "language_info": {
   "codemirror_mode": {
    "name": "ipython",
    "version": 3
   },
   "file_extension": ".py",
   "mimetype": "text/x-python",
   "name": "python",
   "nbconvert_exporter": "python",
   "pygments_lexer": "ipython3",
   "version": "3.11.5"
  }
 },
 "nbformat": 4,
 "nbformat_minor": 5
}
