{
 "cells": [
  {
   "cell_type": "markdown",
   "id": "1dc47db1",
   "metadata": {},
   "source": [
    "# String Operations in Python"
   ]
  },
  {
   "cell_type": "code",
   "execution_count": 1,
   "id": "a9e55d28",
   "metadata": {},
   "outputs": [],
   "source": [
    "x = \"It seems that learning by solving problems is preferred instead of learning by seeing videos\""
   ]
  },
  {
   "cell_type": "code",
   "execution_count": 2,
   "id": "655917ad",
   "metadata": {},
   "outputs": [
    {
     "data": {
      "text/plain": [
       "92"
      ]
     },
     "execution_count": 2,
     "metadata": {},
     "output_type": "execute_result"
    }
   ],
   "source": [
    "len(x)"
   ]
  },
  {
   "cell_type": "code",
   "execution_count": 3,
   "id": "edba0ba0",
   "metadata": {},
   "outputs": [
    {
     "data": {
      "text/plain": [
       "'I'"
      ]
     },
     "execution_count": 3,
     "metadata": {},
     "output_type": "execute_result"
    }
   ],
   "source": [
    "x[0]"
   ]
  },
  {
   "cell_type": "code",
   "execution_count": 8,
   "id": "6f4f6435",
   "metadata": {},
   "outputs": [
    {
     "data": {
      "text/plain": [
       "'s'"
      ]
     },
     "execution_count": 8,
     "metadata": {},
     "output_type": "execute_result"
    }
   ],
   "source": [
    "x[-1]"
   ]
  },
  {
   "cell_type": "code",
   "execution_count": 4,
   "id": "0a834195",
   "metadata": {},
   "outputs": [
    {
     "data": {
      "text/plain": [
       "'It seems that learning by solving problems is preferred instead of learning by seeing videos'"
      ]
     },
     "execution_count": 4,
     "metadata": {},
     "output_type": "execute_result"
    }
   ],
   "source": [
    "x[0:]"
   ]
  },
  {
   "cell_type": "code",
   "execution_count": 5,
   "id": "15804854",
   "metadata": {},
   "outputs": [
    {
     "data": {
      "text/plain": [
       "'soediv gniees yb gninrael fo daetsni derreferp si smelborp gnivlos yb gninrael taht smees tI'"
      ]
     },
     "execution_count": 5,
     "metadata": {},
     "output_type": "execute_result"
    }
   ],
   "source": [
    "x[::-1]"
   ]
  },
  {
   "cell_type": "code",
   "execution_count": 6,
   "id": "e91bfd47",
   "metadata": {},
   "outputs": [
    {
     "data": {
      "text/plain": [
       "'I em htlann ysligpolm speerdisedo erigb eigvdo'"
      ]
     },
     "execution_count": 6,
     "metadata": {},
     "output_type": "execute_result"
    }
   ],
   "source": [
    "x[0::2]"
   ]
  },
  {
   "cell_type": "code",
   "execution_count": 7,
   "id": "487d5e66",
   "metadata": {},
   "outputs": [
    {
     "data": {
      "text/plain": [
       "'ha'"
      ]
     },
     "execution_count": 7,
     "metadata": {},
     "output_type": "execute_result"
    }
   ],
   "source": [
    "x[10:12]"
   ]
  },
  {
   "cell_type": "markdown",
   "id": "fb5e8967",
   "metadata": {},
   "source": [
    "Can we Change certain values in strings? lets try"
   ]
  },
  {
   "cell_type": "code",
   "execution_count": 9,
   "id": "cddb7061",
   "metadata": {
    "scrolled": true
   },
   "outputs": [
    {
     "ename": "TypeError",
     "evalue": "'str' object does not support item assignment",
     "output_type": "error",
     "traceback": [
      "\u001b[1;31m---------------------------------------------------------------------------\u001b[0m",
      "\u001b[1;31mTypeError\u001b[0m                                 Traceback (most recent call last)",
      "Cell \u001b[1;32mIn[9], line 1\u001b[0m\n\u001b[1;32m----> 1\u001b[0m x[\u001b[38;5;241m0\u001b[39m] \u001b[38;5;241m=\u001b[39m \u001b[38;5;124m\"\u001b[39m\u001b[38;5;124mK\u001b[39m\u001b[38;5;124m\"\u001b[39m\n",
      "\u001b[1;31mTypeError\u001b[0m: 'str' object does not support item assignment"
     ]
    }
   ],
   "source": [
    "x[0] = \"K\""
   ]
  },
  {
   "cell_type": "markdown",
   "id": "49fb6635",
   "metadata": {},
   "source": [
    "Seems Strings are immutable in nature in Python but you can change entire string assigned to a variable"
   ]
  },
  {
   "cell_type": "code",
   "execution_count": 10,
   "id": "6e54de6c",
   "metadata": {},
   "outputs": [],
   "source": [
    "x = \"New Value of this variable\""
   ]
  },
  {
   "cell_type": "code",
   "execution_count": 11,
   "id": "9c090b79",
   "metadata": {},
   "outputs": [
    {
     "data": {
      "text/plain": [
       "'New Value of this variable'"
      ]
     },
     "execution_count": 11,
     "metadata": {},
     "output_type": "execute_result"
    }
   ],
   "source": [
    "x"
   ]
  },
  {
   "cell_type": "code",
   "execution_count": 12,
   "id": "e87a39d6",
   "metadata": {},
   "outputs": [
    {
     "data": {
      "text/plain": [
       "'New value of this variable'"
      ]
     },
     "execution_count": 12,
     "metadata": {},
     "output_type": "execute_result"
    }
   ],
   "source": [
    "x.capitalize()"
   ]
  },
  {
   "cell_type": "code",
   "execution_count": 15,
   "id": "11b2423c",
   "metadata": {},
   "outputs": [
    {
     "data": {
      "text/plain": [
       "'new value of this variable'"
      ]
     },
     "execution_count": 15,
     "metadata": {},
     "output_type": "execute_result"
    }
   ],
   "source": [
    "x.lower()"
   ]
  },
  {
   "cell_type": "code",
   "execution_count": 14,
   "id": "a90c30e2",
   "metadata": {},
   "outputs": [
    {
     "data": {
      "text/plain": [
       "'New value of this variable'"
      ]
     },
     "execution_count": 14,
     "metadata": {},
     "output_type": "execute_result"
    }
   ],
   "source": [
    "x.capitalize()"
   ]
  },
  {
   "cell_type": "code",
   "execution_count": 16,
   "id": "93dcb946",
   "metadata": {},
   "outputs": [
    {
     "data": {
      "text/plain": [
       "'NEW VALUE OF THIS VARIABLE'"
      ]
     },
     "execution_count": 16,
     "metadata": {},
     "output_type": "execute_result"
    }
   ],
   "source": [
    "x.upper()"
   ]
  },
  {
   "cell_type": "code",
   "execution_count": 17,
   "id": "9f416f99",
   "metadata": {},
   "outputs": [],
   "source": [
    " x = \"    Nishanth     FIONA   \""
   ]
  },
  {
   "cell_type": "code",
   "execution_count": 20,
   "id": "0bbc61ec",
   "metadata": {},
   "outputs": [
    {
     "data": {
      "text/plain": [
       "'Nishanth     FIONA'"
      ]
     },
     "execution_count": 20,
     "metadata": {},
     "output_type": "execute_result"
    }
   ],
   "source": [
    "x.strip()"
   ]
  },
  {
   "cell_type": "code",
   "execution_count": 23,
   "id": "f035c6b0",
   "metadata": {},
   "outputs": [
    {
     "name": "stdout",
     "output_type": "stream",
     "text": [
      "False\n"
     ]
    }
   ],
   "source": [
    "print( \"fiona\" in x) # membership"
   ]
  },
  {
   "cell_type": "code",
   "execution_count": 22,
   "id": "6684c4f6",
   "metadata": {},
   "outputs": [
    {
     "name": "stdout",
     "output_type": "stream",
     "text": [
      "True\n"
     ]
    }
   ],
   "source": [
    "print( \"FIONA\" in x)"
   ]
  },
  {
   "cell_type": "code",
   "execution_count": 24,
   "id": "db21c972",
   "metadata": {},
   "outputs": [],
   "source": [
    "x = \"I love Python programming?\""
   ]
  },
  {
   "cell_type": "code",
   "execution_count": 26,
   "id": "bcc1c206",
   "metadata": {},
   "outputs": [
    {
     "data": {
      "text/plain": [
       "'Python'"
      ]
     },
     "execution_count": 26,
     "metadata": {},
     "output_type": "execute_result"
    }
   ],
   "source": [
    "x[7:13]"
   ]
  },
  {
   "cell_type": "code",
   "execution_count": 32,
   "id": "cb7e8719",
   "metadata": {},
   "outputs": [
    {
     "data": {
      "text/plain": [
       "'Python '"
      ]
     },
     "execution_count": 32,
     "metadata": {},
     "output_type": "execute_result"
    }
   ],
   "source": [
    "x[-19:-12]"
   ]
  },
  {
   "cell_type": "code",
   "execution_count": 33,
   "id": "38666b85",
   "metadata": {},
   "outputs": [
    {
     "data": {
      "text/plain": [
       "'e'"
      ]
     },
     "execution_count": 33,
     "metadata": {},
     "output_type": "execute_result"
    }
   ],
   "source": [
    "x = 'len'\n",
    "x[len(x * 2) - 5]"
   ]
  },
  {
   "cell_type": "code",
   "execution_count": 34,
   "id": "c3d0d71a",
   "metadata": {},
   "outputs": [],
   "source": [
    "string = '******mumbai23#####'"
   ]
  },
  {
   "cell_type": "code",
   "execution_count": 35,
   "id": "4039a197",
   "metadata": {},
   "outputs": [
    {
     "data": {
      "text/plain": [
       "'mumbai23'"
      ]
     },
     "execution_count": 35,
     "metadata": {},
     "output_type": "execute_result"
    }
   ],
   "source": [
    "string.lstrip('*').rstrip(\"#\")"
   ]
  },
  {
   "cell_type": "code",
   "execution_count": 36,
   "id": "4649646a",
   "metadata": {},
   "outputs": [
    {
     "data": {
      "text/plain": [
       "1"
      ]
     },
     "execution_count": 36,
     "metadata": {},
     "output_type": "execute_result"
    }
   ],
   "source": [
    "string.count(\"a\")"
   ]
  },
  {
   "cell_type": "code",
   "execution_count": 37,
   "id": "50cd4fbb",
   "metadata": {},
   "outputs": [
    {
     "data": {
      "text/plain": [
       "2"
      ]
     },
     "execution_count": 37,
     "metadata": {},
     "output_type": "execute_result"
    }
   ],
   "source": [
    "string.count(\"m\")"
   ]
  },
  {
   "cell_type": "code",
   "execution_count": 39,
   "id": "3cb8ef23",
   "metadata": {},
   "outputs": [],
   "source": [
    "x = \"bmaunmdbraai\""
   ]
  },
  {
   "cell_type": "code",
   "execution_count": 41,
   "id": "3fc28475",
   "metadata": {},
   "outputs": [
    {
     "name": "stdout",
     "output_type": "stream",
     "text": [
      "bandra , mumbai\n"
     ]
    }
   ],
   "source": [
    "print(x[::2],\",\",x[1::2])"
   ]
  },
  {
   "cell_type": "code",
   "execution_count": 42,
   "id": "3c777518",
   "metadata": {},
   "outputs": [
    {
     "name": "stdout",
     "output_type": "stream",
     "text": [
      "bandra , mumbai\n"
     ]
    }
   ],
   "source": [
    "\n",
    "input_str = \"bmaunmdbraai\"\n",
    "message1 = input_str[::2].strip(\"#\")\n",
    "message2 = input_str[1::2].strip(\"#\")\n",
    "print(message1,',',message2)"
   ]
  },
  {
   "cell_type": "code",
   "execution_count": 44,
   "id": "b786984b",
   "metadata": {
    "scrolled": true
   },
   "outputs": [
    {
     "name": "stdout",
     "output_type": "stream",
     "text": [
      "bandra,mumbai\n"
     ]
    }
   ],
   "source": [
    "print(message1+\",\"+message2)"
   ]
  },
  {
   "cell_type": "markdown",
   "id": "01a22ac5",
   "metadata": {},
   "source": [
    " "
   ]
  }
 ],
 "metadata": {
  "kernelspec": {
   "display_name": "Python 3 (ipykernel)",
   "language": "python",
   "name": "python3"
  },
  "language_info": {
   "codemirror_mode": {
    "name": "ipython",
    "version": 3
   },
   "file_extension": ".py",
   "mimetype": "text/x-python",
   "name": "python",
   "nbconvert_exporter": "python",
   "pygments_lexer": "ipython3",
   "version": "3.11.5"
  }
 },
 "nbformat": 4,
 "nbformat_minor": 5
}
