{
 "cells": [
  {
   "cell_type": "markdown",
   "id": "6bf8db9d",
   "metadata": {},
   "source": [
    "# Python Bootcamp Practice Questions One"
   ]
  },
  {
   "cell_type": "code",
   "execution_count": 1,
   "id": "feb9a1f5",
   "metadata": {},
   "outputs": [
    {
     "name": "stdout",
     "output_type": "stream",
     "text": [
      "<class 'str'>\n"
     ]
    }
   ],
   "source": [
    "number='159'\n",
    "\n",
    "print(type(number))"
   ]
  },
  {
   "cell_type": "code",
   "execution_count": 2,
   "id": "e8d35a37",
   "metadata": {},
   "outputs": [
    {
     "name": "stdout",
     "output_type": "stream",
     "text": [
      "34.0\n"
     ]
    }
   ],
   "source": [
    "number=34.721\n",
    "print(float(int(number)))"
   ]
  },
  {
   "cell_type": "code",
   "execution_count": 3,
   "id": "05d160cd",
   "metadata": {},
   "outputs": [
    {
     "ename": "NameError",
     "evalue": "name 'Alex' is not defined",
     "output_type": "error",
     "traceback": [
      "\u001b[1;31m---------------------------------------------------------------------------\u001b[0m",
      "\u001b[1;31mNameError\u001b[0m                                 Traceback (most recent call last)",
      "Cell \u001b[1;32mIn[3], line 1\u001b[0m\n\u001b[1;32m----> 1\u001b[0m name \u001b[38;5;241m=\u001b[39m Alex\n\u001b[0;32m      2\u001b[0m \u001b[38;5;28mprint\u001b[39m(\u001b[38;5;28mtype\u001b[39m(name))\n",
      "\u001b[1;31mNameError\u001b[0m: name 'Alex' is not defined"
     ]
    }
   ],
   "source": [
    "name = Alex\n",
    "print(type(name))"
   ]
  },
  {
   "cell_type": "code",
   "execution_count": 4,
   "id": "36b13338",
   "metadata": {},
   "outputs": [
    {
     "name": "stdout",
     "output_type": "stream",
     "text": [
      "0.0\n"
     ]
    }
   ],
   "source": [
    "a = 8.9\n",
    "b = 2\n",
    "c = 5\n",
    "print(a//b//c)"
   ]
  },
  {
   "cell_type": "code",
   "execution_count": 5,
   "id": "dee81415",
   "metadata": {},
   "outputs": [
    {
     "data": {
      "text/plain": [
       "-8.0"
      ]
     },
     "execution_count": 5,
     "metadata": {},
     "output_type": "execute_result"
    }
   ],
   "source": [
    "4 // 8 + ( 2.5 + 7.5 ) - 6 * 3"
   ]
  },
  {
   "cell_type": "code",
   "execution_count": 6,
   "id": "57eadd2c",
   "metadata": {},
   "outputs": [
    {
     "data": {
      "text/plain": [
       "-9"
      ]
     },
     "execution_count": 6,
     "metadata": {},
     "output_type": "execute_result"
    }
   ],
   "source": [
    "5 % ( 2 + 12 ) ** 3 - 60 // ( 7 + 1 ) * 2"
   ]
  },
  {
   "cell_type": "code",
   "execution_count": 7,
   "id": "1769a8b8",
   "metadata": {},
   "outputs": [
    {
     "name": "stdout",
     "output_type": "stream",
     "text": [
      "to cod\n"
     ]
    }
   ],
   "source": [
    "string_1 = \"I love to code in python\"\n",
    "print( string_1[7:13])"
   ]
  },
  {
   "cell_type": "code",
   "execution_count": 8,
   "id": "f17db820",
   "metadata": {},
   "outputs": [],
   "source": [
    "sentence = 'This sentence needs to be split into words'"
   ]
  },
  {
   "cell_type": "code",
   "execution_count": 9,
   "id": "853c093a",
   "metadata": {},
   "outputs": [
    {
     "data": {
      "text/plain": [
       "'split'"
      ]
     },
     "execution_count": 9,
     "metadata": {},
     "output_type": "execute_result"
    }
   ],
   "source": [
    "sentence[-16:-11]"
   ]
  },
  {
   "cell_type": "code",
   "execution_count": 10,
   "id": "679d3e8e",
   "metadata": {},
   "outputs": [
    {
     "name": "stdout",
     "output_type": "stream",
     "text": [
      "split\n"
     ]
    }
   ],
   "source": [
    "print(sentence.split()[5])"
   ]
  },
  {
   "cell_type": "code",
   "execution_count": 11,
   "id": "38e17469",
   "metadata": {},
   "outputs": [
    {
     "ename": "TypeError",
     "evalue": "'str' object is not callable",
     "output_type": "error",
     "traceback": [
      "\u001b[1;31m---------------------------------------------------------------------------\u001b[0m",
      "\u001b[1;31mTypeError\u001b[0m                                 Traceback (most recent call last)",
      "Cell \u001b[1;32mIn[11], line 2\u001b[0m\n\u001b[0;32m      1\u001b[0m \u001b[38;5;28mlen\u001b[39m \u001b[38;5;241m=\u001b[39m \u001b[38;5;124m'\u001b[39m\u001b[38;5;124mpython\u001b[39m\u001b[38;5;124m'\u001b[39m\n\u001b[1;32m----> 2\u001b[0m \u001b[38;5;28mprint\u001b[39m(\u001b[38;5;28mlen\u001b[39m(\u001b[38;5;28mlen\u001b[39m))\n",
      "\u001b[1;31mTypeError\u001b[0m: 'str' object is not callable"
     ]
    }
   ],
   "source": [
    "len = 'python'\n",
    "print(len(len))"
   ]
  },
  {
   "cell_type": "code",
   "execution_count": 12,
   "id": "b24d2df1",
   "metadata": {},
   "outputs": [
    {
     "ename": "SyntaxError",
     "evalue": "expected ':' (4058991420.py, line 2)",
     "output_type": "error",
     "traceback": [
      "\u001b[1;36m  Cell \u001b[1;32mIn[12], line 2\u001b[1;36m\u001b[0m\n\u001b[1;33m    if x%2==0\u001b[0m\n\u001b[1;37m             ^\u001b[0m\n\u001b[1;31mSyntaxError\u001b[0m\u001b[1;31m:\u001b[0m expected ':'\n"
     ]
    }
   ],
   "source": [
    "x=10\n",
    "if x%2==0\n",
    "print(\"even number\")\n",
    "else\n",
    "print(\"odd number\") "
   ]
  },
  {
   "cell_type": "code",
   "execution_count": 13,
   "id": "4315bf51",
   "metadata": {},
   "outputs": [
    {
     "name": "stdout",
     "output_type": "stream",
     "text": [
      "false\n",
      "true\n"
     ]
    }
   ],
   "source": [
    "if 4+9<10:\n",
    "  print(\"true\")\n",
    "else:\n",
    "  print(\"false\")\n",
    "print(\"true\")"
   ]
  },
  {
   "cell_type": "code",
   "execution_count": 15,
   "id": "52ef6ab4",
   "metadata": {},
   "outputs": [
    {
     "name": "stdout",
     "output_type": "stream",
     "text": [
      "fair\n"
     ]
    }
   ],
   "source": [
    "x = 67\n",
    "if x>50:\n",
    "  if x>90:\n",
    "    print(\"excellent\")\n",
    "  else:\n",
    "    if x>80:\n",
    "      print(\"good\")\n",
    "    else:\n",
    "      print(\"fair\")\n",
    "else:\n",
    "  if x>30:\n",
    "    print(\"average\")\n",
    "  else:\n",
    "    print(\"poor\")"
   ]
  },
  {
   "cell_type": "code",
   "execution_count": 17,
   "id": "2672ed2f",
   "metadata": {},
   "outputs": [],
   "source": [
    "a='pqrstuv'\n",
    "i='j'\n",
    "while i in a:\n",
    "  print(i)"
   ]
  },
  {
   "cell_type": "code",
   "execution_count": 18,
   "id": "8238d9fa",
   "metadata": {},
   "outputs": [],
   "source": [
    "i = 16\n",
    "while False:\n",
    "    if i%2 == 0:\n",
    "        break\n",
    "    print(i)\n",
    "    i += 2"
   ]
  },
  {
   "cell_type": "code",
   "execution_count": 19,
   "id": "3d1f0ae4",
   "metadata": {},
   "outputs": [
    {
     "ename": "TypeError",
     "evalue": "'str' object is not callable",
     "output_type": "error",
     "traceback": [
      "\u001b[1;31m---------------------------------------------------------------------------\u001b[0m",
      "\u001b[1;31mTypeError\u001b[0m                                 Traceback (most recent call last)",
      "Cell \u001b[1;32mIn[19], line 3\u001b[0m\n\u001b[0;32m      1\u001b[0m s\u001b[38;5;241m=\u001b[39m\u001b[38;5;124m\"\u001b[39m\u001b[38;5;124mUpgrad\u001b[39m\u001b[38;5;124m\"\u001b[39m\n\u001b[1;32m----> 3\u001b[0m \u001b[38;5;28;01mfor\u001b[39;00m i \u001b[38;5;129;01min\u001b[39;00m \u001b[38;5;28mrange\u001b[39m(\u001b[38;5;28mlen\u001b[39m(s)):\n\u001b[0;32m      4\u001b[0m     \u001b[38;5;28;01mif\u001b[39;00m s[i] \u001b[38;5;129;01min\u001b[39;00m \u001b[38;5;124m'\u001b[39m\u001b[38;5;124ma\u001b[39m\u001b[38;5;124m'\u001b[39m:\n\u001b[0;32m      5\u001b[0m         s[i]\u001b[38;5;241m=\u001b[39m\u001b[38;5;124m'\u001b[39m\u001b[38;5;124m*\u001b[39m\u001b[38;5;124m'\u001b[39m\n",
      "\u001b[1;31mTypeError\u001b[0m: 'str' object is not callable"
     ]
    }
   ],
   "source": [
    "s=\"Upgrad\"\n",
    "\n",
    "for i in range(len(s)):\n",
    "    if s[i] in 'a':\n",
    "        s[i]='*'\n",
    "\n",
    "print(s)"
   ]
  },
  {
   "cell_type": "code",
   "execution_count": 20,
   "id": "9d174a9b",
   "metadata": {},
   "outputs": [
    {
     "name": "stdout",
     "output_type": "stream",
     "text": [
      "1\n",
      "Integer\n"
     ]
    }
   ],
   "source": [
    "inp=input()\n",
    "\n",
    "if inp.isdigit():\n",
    "    print(\"Integer\")\n",
    "else: \n",
    "    print(\"Alphabet\")"
   ]
  },
  {
   "cell_type": "code",
   "execution_count": 21,
   "id": "c330e839",
   "metadata": {},
   "outputs": [
    {
     "data": {
      "text/plain": [
       "65"
      ]
     },
     "execution_count": 21,
     "metadata": {},
     "output_type": "execute_result"
    }
   ],
   "source": [
    "ord('A')"
   ]
  },
  {
   "cell_type": "code",
   "execution_count": 25,
   "id": "c67b2561",
   "metadata": {},
   "outputs": [
    {
     "data": {
      "text/plain": [
       "66"
      ]
     },
     "execution_count": 25,
     "metadata": {},
     "output_type": "execute_result"
    }
   ],
   "source": [
    "ord('B')"
   ]
  },
  {
   "cell_type": "code",
   "execution_count": 26,
   "id": "a5b58d03",
   "metadata": {},
   "outputs": [
    {
     "data": {
      "text/plain": [
       "67"
      ]
     },
     "execution_count": 26,
     "metadata": {},
     "output_type": "execute_result"
    }
   ],
   "source": [
    "ord(\"C\")"
   ]
  },
  {
   "cell_type": "code",
   "execution_count": 27,
   "id": "64a7e6e1",
   "metadata": {},
   "outputs": [
    {
     "data": {
      "text/plain": [
       "'C'"
      ]
     },
     "execution_count": 27,
     "metadata": {},
     "output_type": "execute_result"
    }
   ],
   "source": [
    "chr(67)"
   ]
  },
  {
   "cell_type": "code",
   "execution_count": 29,
   "id": "36801062",
   "metadata": {},
   "outputs": [
    {
     "name": "stdout",
     "output_type": "stream",
     "text": [
      "Enter Capital Letter:2\n",
      "1\n",
      "3\n"
     ]
    }
   ],
   "source": [
    "x = input(\"Enter Capital Letter:\")\n",
    "pl = ord(x) - 1 \n",
    "pl1 = chr(pl)\n",
    "#Write your code here\n",
    "nl = ord(x) + 1 \n",
    "nl1 = chr(nl)\n",
    "print(pl1)\n",
    "print(nl1)"
   ]
  },
  {
   "cell_type": "code",
   "execution_count": 30,
   "id": "ba59f2c8",
   "metadata": {},
   "outputs": [
    {
     "name": "stdout",
     "output_type": "stream",
     "text": [
      "2\n",
      "1\n",
      "3\n"
     ]
    }
   ],
   "source": [
    "letter = input()\n",
    "asc = ord(letter)\n",
    "pl = asc - 1 \n",
    "nl = asc + 1\n",
    "print(chr(pl))\n",
    "print(chr(nl))"
   ]
  },
  {
   "cell_type": "code",
   "execution_count": 38,
   "id": "37a72bd2",
   "metadata": {},
   "outputs": [
    {
     "name": "stdout",
     "output_type": "stream",
     "text": [
      "fargrg\n",
      "frgrg\n"
     ]
    }
   ],
   "source": [
    "\n",
    "string = input()\n",
    "vowels = ['a','e','i','o','u'] \n",
    "result = [letter for letter in string if letter.lower() not in vowels] \n",
    "result = ''.join(result) \n",
    "print(result) \n",
    "  "
   ]
  },
  {
   "cell_type": "code",
   "execution_count": 44,
   "id": "e61bc86f",
   "metadata": {},
   "outputs": [
    {
     "name": "stdout",
     "output_type": "stream",
     "text": [
      "Enter a string: Nadi\n",
      "Original string: Nadi\n",
      "String without vowels: Nd\n"
     ]
    }
   ],
   "source": [
    "vowels = 'aeiouAEIOU'\n",
    "text = input(\"Enter a string: \")\n",
    "\n",
    "result = \"\"\n",
    "for char in text:\n",
    "  if char not in vowels:\n",
    "    result += char\n",
    "\n",
    "print(f\"Original string: {text}\")\n",
    "print(f\"String without vowels: {result}\")\n",
    "\n"
   ]
  },
  {
   "cell_type": "code",
   "execution_count": 45,
   "id": "31ecf0cb",
   "metadata": {},
   "outputs": [
    {
     "name": "stdout",
     "output_type": "stream",
     "text": [
      "Enter a string: Nishanth Fiona\n"
     ]
    }
   ],
   "source": [
    "vowels = 'aeiouAEIOU'\n",
    "text = input(\"Enter a string: \")\n",
    "\n",
    "result = \"\"\n",
    "for char in text:\n",
    "  if char not in vowels:\n",
    "    result += char"
   ]
  },
  {
   "cell_type": "code",
   "execution_count": 46,
   "id": "18cd0e9e",
   "metadata": {},
   "outputs": [
    {
     "name": "stdout",
     "output_type": "stream",
     "text": [
      "Nshnth Fn\n"
     ]
    }
   ],
   "source": [
    "print(result)"
   ]
  },
  {
   "cell_type": "code",
   "execution_count": 47,
   "id": "8f178f6a",
   "metadata": {},
   "outputs": [
    {
     "name": "stdout",
     "output_type": "stream",
     "text": [
      "1\n"
     ]
    },
    {
     "ename": "ValueError",
     "evalue": "not enough values to unpack (expected 3, got 1)",
     "output_type": "error",
     "traceback": [
      "\u001b[1;31m---------------------------------------------------------------------------\u001b[0m",
      "\u001b[1;31mValueError\u001b[0m                                Traceback (most recent call last)",
      "Cell \u001b[1;32mIn[47], line 1\u001b[0m\n\u001b[1;32m----> 1\u001b[0m a,b,c\u001b[38;5;241m=\u001b[39m \u001b[38;5;28minput\u001b[39m()\u001b[38;5;241m.\u001b[39msplit()\n",
      "\u001b[1;31mValueError\u001b[0m: not enough values to unpack (expected 3, got 1)"
     ]
    }
   ],
   "source": [
    "a,b,c= input().split()"
   ]
  },
  {
   "cell_type": "code",
   "execution_count": 49,
   "id": "15c9d13a",
   "metadata": {},
   "outputs": [
    {
     "name": "stdout",
     "output_type": "stream",
     "text": [
      "1 3 5\n"
     ]
    }
   ],
   "source": []
  },
  {
   "cell_type": "code",
   "execution_count": 51,
   "id": "866b6543",
   "metadata": {},
   "outputs": [
    {
     "ename": "NameError",
     "evalue": "name 'abc' is not defined",
     "output_type": "error",
     "traceback": [
      "\u001b[1;31m---------------------------------------------------------------------------\u001b[0m",
      "\u001b[1;31mNameError\u001b[0m                                 Traceback (most recent call last)",
      "Cell \u001b[1;32mIn[51], line 1\u001b[0m\n\u001b[1;32m----> 1\u001b[0m abc\n",
      "\u001b[1;31mNameError\u001b[0m: name 'abc' is not defined"
     ]
    }
   ],
   "source": []
  },
  {
   "cell_type": "code",
   "execution_count": 54,
   "id": "00e0fc17",
   "metadata": {},
   "outputs": [
    {
     "name": "stdout",
     "output_type": "stream",
     "text": [
      "1 2 3\n"
     ]
    },
    {
     "ename": "TypeError",
     "evalue": "int() argument must be a string, a bytes-like object or a real number, not 'list'",
     "output_type": "error",
     "traceback": [
      "\u001b[1;31m---------------------------------------------------------------------------\u001b[0m",
      "\u001b[1;31mTypeError\u001b[0m                                 Traceback (most recent call last)",
      "Cell \u001b[1;32mIn[54], line 1\u001b[0m\n\u001b[1;32m----> 1\u001b[0m a,b,c\u001b[38;5;241m=\u001b[39m \u001b[38;5;28mint\u001b[39m(\u001b[38;5;28minput\u001b[39m()\u001b[38;5;241m.\u001b[39msplit())\n",
      "\u001b[1;31mTypeError\u001b[0m: int() argument must be a string, a bytes-like object or a real number, not 'list'"
     ]
    }
   ],
   "source": [
    "a,b,c= int(input().split())"
   ]
  },
  {
   "cell_type": "code",
   "execution_count": 56,
   "id": "8fcac01c",
   "metadata": {},
   "outputs": [
    {
     "name": "stdout",
     "output_type": "stream",
     "text": [
      "3 4 5\n",
      "Valid\n"
     ]
    }
   ],
   "source": [
    "a,b,c= input().split()\n",
    "a = int(a)\n",
    "b = int(b)\n",
    "c = int(c)\n",
    "# Write your code here\n",
    "# Convert a,b,c into numeric type and check for the validity of triangle\n",
    "if (a + b > c) and (b + c > a) and (c + a > b):\n",
    "    print(\"Valid\")\n",
    "else:\n",
    "    print(\"Invalid\")"
   ]
  },
  {
   "cell_type": "code",
   "execution_count": 57,
   "id": "fa082698",
   "metadata": {},
   "outputs": [
    {
     "name": "stdout",
     "output_type": "stream",
     "text": [
      "nishanthfiona\n",
      "a\n"
     ]
    }
   ],
   "source": [
    "input_string=input()\n",
    "input_char=input()\n",
    "\n",
    "result = input_string.count(input_char)"
   ]
  },
  {
   "cell_type": "code",
   "execution_count": 58,
   "id": "08146d59",
   "metadata": {},
   "outputs": [
    {
     "name": "stdout",
     "output_type": "stream",
     "text": [
      "argjnergnoegrinmaoegrjijoiregjoerig;okegmbnkjdbnotgn\n",
      "j\n",
      "5\n"
     ]
    }
   ],
   "source": [
    "input_string=input()\n",
    "input_char=input()\n",
    "\n",
    "il = input_string.lower()\n",
    "ic = input_char.lower()\n",
    "result = il.count(ic)\n",
    "print(result)"
   ]
  },
  {
   "cell_type": "code",
   "execution_count": 59,
   "id": "117fdc08",
   "metadata": {},
   "outputs": [],
   "source": [
    "n = 64565156"
   ]
  },
  {
   "cell_type": "code",
   "execution_count": 60,
   "id": "9893ab42",
   "metadata": {},
   "outputs": [
    {
     "ename": "TypeError",
     "evalue": "'int' object is not subscriptable",
     "output_type": "error",
     "traceback": [
      "\u001b[1;31m---------------------------------------------------------------------------\u001b[0m",
      "\u001b[1;31mTypeError\u001b[0m                                 Traceback (most recent call last)",
      "Cell \u001b[1;32mIn[60], line 1\u001b[0m\n\u001b[1;32m----> 1\u001b[0m n[\u001b[38;5;241m1\u001b[39m]\n",
      "\u001b[1;31mTypeError\u001b[0m: 'int' object is not subscriptable"
     ]
    }
   ],
   "source": [
    "n[1]"
   ]
  },
  {
   "cell_type": "code",
   "execution_count": 2,
   "id": "7e38ac96",
   "metadata": {},
   "outputs": [
    {
     "name": "stdout",
     "output_type": "stream",
     "text": [
      "0000\n",
      "1\n"
     ]
    }
   ],
   "source": [
    "n=int(input())\n",
    "strn = str(n)\n",
    "NumberofZeroes = 0\n",
    "for c in strn:\n",
    "    if c == \"0\":\n",
    "        NumberofZeroes += 1\n",
    "print(NumberofZeroes)"
   ]
  },
  {
   "cell_type": "code",
   "execution_count": 5,
   "id": "c8b4a5cd",
   "metadata": {},
   "outputs": [
    {
     "name": "stdout",
     "output_type": "stream",
     "text": [
      "00001\n",
      "0\n"
     ]
    }
   ],
   "source": [
    "n = int(input())\n",
    "strn = str(n)\n",
    "NumberofZeroes = 0\n",
    "for c in strn:\n",
    "    if c == \"0\":\n",
    "        NumberofZeroes += 1\n",
    "print(NumberofZeroes)"
   ]
  },
  {
   "cell_type": "code",
   "execution_count": 12,
   "id": "d83c9b1e",
   "metadata": {
    "scrolled": true
   },
   "outputs": [
    {
     "name": "stdout",
     "output_type": "stream",
     "text": [
      "1365165400000\n",
      "Number of odd digits: 5 \n",
      "Number of non-zero even digits: 3 \n",
      "Number of zeros: 5\n"
     ]
    }
   ],
   "source": [
    "# Take input\n",
    "n=int(input())\n",
    "strn = str(n)\n",
    "NumberofZeroes = 0\n",
    "for c in strn:\n",
    "    if c == \"0\":\n",
    "        NumberofZeroes += 1\n",
    "\n",
    "Numberofevendigits = 0\n",
    "for c in strn:\n",
    "    if int(c) % 2 == 0:\n",
    "        Numberofevendigits +=1\n",
    "NumberofNonZeroEvenDigits = Numberofevendigits - NumberofZeroes\n",
    "        \n",
    "NumberofOddDigits = len(strn) - (NumberofNonZeroEvenDigits + NumberofZeroes)\n",
    "\n",
    "print(f\"Number of odd digits: {NumberofOddDigits} \\nNumber of non-zero even digits: {NumberofNonZeroEvenDigits} \\nNumber of zeros: {NumberofZeroes}\" )"
   ]
  },
  {
   "cell_type": "code",
   "execution_count": 14,
   "id": "c9e9ddca",
   "metadata": {},
   "outputs": [
    {
     "name": "stdout",
     "output_type": "stream",
     "text": [
      "43654fzlhJBHB\n",
      "FZLHjbhb\n"
     ]
    }
   ],
   "source": [
    "#Take input\n",
    "input_string=input()\n",
    "result = \"\"\n",
    "for c in input_string:\n",
    "    if c.isalpha():\n",
    "        if c.islower():\n",
    "            result += c.upper()\n",
    "        else:\n",
    "            result += c.lower()\n",
    "print(result)"
   ]
  }
 ],
 "metadata": {
  "kernelspec": {
   "display_name": "Python 3 (ipykernel)",
   "language": "python",
   "name": "python3"
  },
  "language_info": {
   "codemirror_mode": {
    "name": "ipython",
    "version": 3
   },
   "file_extension": ".py",
   "mimetype": "text/x-python",
   "name": "python",
   "nbconvert_exporter": "python",
   "pygments_lexer": "ipython3",
   "version": "3.11.5"
  }
 },
 "nbformat": 4,
 "nbformat_minor": 5
}
