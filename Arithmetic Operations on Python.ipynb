{
 "cells": [
  {
   "cell_type": "markdown",
   "id": "e7962df0",
   "metadata": {},
   "source": [
    "# Arithmetic Operations On Python"
   ]
  },
  {
   "cell_type": "markdown",
   "id": "4efbcaa9",
   "metadata": {},
   "source": [
    "It works on PEDMAS"
   ]
  },
  {
   "cell_type": "code",
   "execution_count": 17,
   "id": "628ab372",
   "metadata": {},
   "outputs": [],
   "source": [
    "a = 2\n",
    "b = 5"
   ]
  },
  {
   "cell_type": "code",
   "execution_count": 18,
   "id": "9ff376c7",
   "metadata": {},
   "outputs": [
    {
     "name": "stdout",
     "output_type": "stream",
     "text": [
      "7\n",
      "-3\n",
      "10\n",
      "0.4\n",
      "2\n",
      "1\n",
      "25\n"
     ]
    }
   ],
   "source": [
    "print(a + b) # addition\n",
    "print(a - b) # subtraction\n",
    "print(a * b) # Multiplication\n",
    "print(a / b) # Division\n",
    "print(a % b) # Modulus or remainder\n",
    "print(b % a)\n",
    "print(b ** a) # exponential"
   ]
  },
  {
   "cell_type": "code",
   "execution_count": 19,
   "id": "1c4d80ef",
   "metadata": {},
   "outputs": [
    {
     "data": {
      "text/plain": [
       "'fiona12345'"
      ]
     },
     "execution_count": 19,
     "metadata": {},
     "output_type": "execute_result"
    }
   ],
   "source": [
    "\"fiona\" + \"12345\""
   ]
  },
  {
   "cell_type": "code",
   "execution_count": 20,
   "id": "608f7338",
   "metadata": {},
   "outputs": [
    {
     "data": {
      "text/plain": [
       "'Fiona Fiona Fiona Fiona Fiona '"
      ]
     },
     "execution_count": 20,
     "metadata": {},
     "output_type": "execute_result"
    }
   ],
   "source": [
    "\"Fiona \" * 5"
   ]
  },
  {
   "cell_type": "code",
   "execution_count": 21,
   "id": "c2c490fd",
   "metadata": {},
   "outputs": [],
   "source": [
    "a = 4 + (8 ** 2) - 3 ** 2 % 1 "
   ]
  },
  {
   "cell_type": "code",
   "execution_count": 22,
   "id": "34d9730b",
   "metadata": {},
   "outputs": [
    {
     "data": {
      "text/plain": [
       "68"
      ]
     },
     "execution_count": 22,
     "metadata": {},
     "output_type": "execute_result"
    }
   ],
   "source": [
    "a"
   ]
  },
  {
   "cell_type": "code",
   "execution_count": 23,
   "id": "0020f9f4",
   "metadata": {},
   "outputs": [
    {
     "ename": "NameError",
     "evalue": "name 'X' is not defined",
     "output_type": "error",
     "traceback": [
      "\u001b[1;31m---------------------------------------------------------------------------\u001b[0m",
      "\u001b[1;31mNameError\u001b[0m                                 Traceback (most recent call last)",
      "Cell \u001b[1;32mIn[23], line 4\u001b[0m\n\u001b[0;32m      2\u001b[0m y \u001b[38;5;241m=\u001b[39m \u001b[38;5;241m2.5\u001b[39m\n\u001b[0;32m      3\u001b[0m z \u001b[38;5;241m=\u001b[39m \u001b[38;5;241m5\u001b[39m\n\u001b[1;32m----> 4\u001b[0m \u001b[38;5;28mprint\u001b[39m(X \u001b[38;5;241m+\u001b[39m y \u001b[38;5;241m/\u001b[39m z)\n",
      "\u001b[1;31mNameError\u001b[0m: name 'X' is not defined"
     ]
    }
   ],
   "source": [
    "x = 3\n",
    "y = 2.5\n",
    "z = 5\n",
    "print(X + y / z)"
   ]
  },
  {
   "cell_type": "code",
   "execution_count": 24,
   "id": "32b93e62",
   "metadata": {},
   "outputs": [],
   "source": [
    "y = 4 % (1 + 9)**2 - 60 // (7 + 2)"
   ]
  },
  {
   "cell_type": "code",
   "execution_count": 25,
   "id": "5c2edc80",
   "metadata": {},
   "outputs": [
    {
     "data": {
      "text/plain": [
       "-2"
      ]
     },
     "execution_count": 25,
     "metadata": {},
     "output_type": "execute_result"
    }
   ],
   "source": [
    "y\n"
   ]
  },
  {
   "cell_type": "markdown",
   "id": "3accc991",
   "metadata": {},
   "source": [
    "#### For Futher Details refer or Video Reference for Arithmetic Operations on Python : https://youtu.be/QC_Wpj_cJKM?si=ALqrB3MKd1tQMWW3"
   ]
  }
 ],
 "metadata": {
  "kernelspec": {
   "display_name": "Python 3 (ipykernel)",
   "language": "python",
   "name": "python3"
  },
  "language_info": {
   "codemirror_mode": {
    "name": "ipython",
    "version": 3
   },
   "file_extension": ".py",
   "mimetype": "text/x-python",
   "name": "python",
   "nbconvert_exporter": "python",
   "pygments_lexer": "ipython3",
   "version": "3.11.5"
  }
 },
 "nbformat": 4,
 "nbformat_minor": 5
}
